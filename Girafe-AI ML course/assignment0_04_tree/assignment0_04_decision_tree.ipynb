{
 "cells": [
  {
   "cell_type": "markdown",
   "metadata": {},
   "source": [
    "## assignment 04: Decision Tree construction"
   ]
  },
  {
   "cell_type": "code",
   "execution_count": null,
   "metadata": {},
   "outputs": [],
   "source": [
    "# If working in colab, uncomment the following line\n",
    "# ! wget https://raw.githubusercontent.com/girafe-ai/ml-course/22f_basic/homeworks/assignment0_04_tree/tree.py -nc"
   ]
  },
  {
   "cell_type": "code",
   "execution_count": 3,
   "metadata": {},
   "outputs": [],
   "source": [
    "import numpy as np\n",
    "from matplotlib import pyplot as plt\n",
    "%matplotlib inline\n",
    "from sklearn.base import BaseEstimator\n",
    "from sklearn.datasets import make_classification, make_regression, load_digits, fetch_openml\n",
    "from sklearn.model_selection import train_test_split, GridSearchCV\n",
    "from sklearn.metrics import accuracy_score, mean_squared_error\n",
    "import pandas as pd\n",
    "\n",
    "%load_ext autoreload\n",
    "%autoreload 2"
   ]
  },
  {
   "cell_type": "markdown",
   "metadata": {},
   "source": [
    "Let's fix the `random_state` (a.k.a. random seed)."
   ]
  },
  {
   "cell_type": "code",
   "execution_count": 4,
   "metadata": {},
   "outputs": [],
   "source": [
    "RANDOM_STATE = 42"
   ]
  },
  {
   "cell_type": "markdown",
   "metadata": {},
   "source": [
    "__Your ultimate task for today is to impement the `DecisionTree` class and use it to solve classification and regression problems.__\n",
    "\n",
    "__Specifications:__\n",
    "- The class inherits from `sklearn.BaseEstimator`;\n",
    "- Constructor is implemented for you. It has the following parameters:\n",
    "    * `max_depth` - maximum depth of the tree; `np.inf` by default\n",
    "    * `min_samples_split` - minimal number of samples in the leaf to make a split; `2` by default;\n",
    "    * `criterion` - criterion to select the best split; in classification one of `['gini', 'entropy']`, default `gini`; in regression `variance`;\n",
    "\n",
    "- `fit` method takes `X` (`numpy.array` of type `float` shaped `(n_objects, n_features)`) and `y` (`numpy.array` of type float shaped `(n_objects, 1)` in regression; `numpy.array` of type int shaped `(n_objects, 1)` with class labels in classification). It works inplace and fits the `DecisionTree` class instance to the provided data from scratch.\n",
    "\n",
    "- `predict` method takes `X` (`numpy.array` of type `float` shaped `(n_objects, n_features)`) and returns the predicted $\\hat{y}$ values. In classification it is a class label for every object (the most frequent in the leaf; if several classes meet this requirement select the one with the smallest class index). In regression it is the desired constant (e.g. mean value for `variance` criterion)\n",
    "\n",
    "- `predict_proba` method (works only for classification (`gini` or `entropy` criterion). It takes `X` (`numpy.array` of type `float` shaped `(n_objects, n_features)`) and returns the `numpy.array` of type `float` shaped `(n_objects, n_features)` with class probabilities for every object from `X`. Class $i$ probability equals the ratio of $i$ class objects that got in this node in the training set.\n",
    "\n",
    "    \n",
    "__Small recap:__\n",
    "\n",
    "To find the optimal split the following functional is evaluated:\n",
    "    \n",
    "$$G(j, t) = H(Q) - \\dfrac{|L|}{|Q|} H(L) - \\dfrac{|R|}{|Q|} H(R),$$\n",
    "    where $Q$ is the dataset from the current node, $L$ and $R$ are left and right subsets defined by the split $x^{(j)} < t$.\n",
    "\n",
    "\n",
    "\n",
    "1. Classification. Let $p_i$ be the probability of $i$ class in subset $X$ (ratio of the $i$ class objects in the dataset). The criterions are defined as:\n",
    "    \n",
    "    * `gini`: Gini impurity $$H(R) = 1 -\\sum_{i = 1}^K p_i^2$$\n",
    "    \n",
    "    * `entropy`: Entropy $$H(R) = -\\sum_{i = 1}^K p_i \\log(p_i)$$ (One might use the natural logarithm).\n",
    "    \n",
    "2. Regression. Let $y_l$ be the target value for the $R$, $\\mathbf{y} = (y_1, \\dots, y_N)$ – all targets for the selected dataset $X$.\n",
    "    \n",
    "    * `variance`: $$H(R) = \\dfrac{1}{|R|} \\sum_{y_j \\in R}(y_j - \\text{mean}(\\mathbf{y}))^2$$\n",
    "    \n",
    "    * `mad_median`: $$H(R) = \\dfrac{1}{|R|} \\sum_{y_j \\in R}|y_j - \\text{median}(\\mathbf{y})|$$\n",
    "        \n"
   ]
  },
  {
   "cell_type": "markdown",
   "metadata": {},
   "source": [
    "**Hints and comments**:\n",
    "\n",
    "* No need to deal with categorical features, they will not be present.\n",
    "* Siple greedy recursive procedure is enough. However, you can speed it up somehow (e.g. using percentiles).\n",
    "* Please, do not copy implementations available online. You are supposed to build very simple example of the Decision Tree."
   ]
  },
  {
   "cell_type": "markdown",
   "metadata": {},
   "source": [
    "File `tree.py` is waiting for you. Implement all the needed methods in that file."
   ]
  },
  {
   "cell_type": "markdown",
   "metadata": {},
   "source": [
    "### Check yourself"
   ]
  },
  {
   "cell_type": "code",
   "execution_count": 66,
   "metadata": {},
   "outputs": [],
   "source": [
    "from tree import entropy, gini, variance, mad_median, DecisionTree"
   ]
  },
  {
   "cell_type": "markdown",
   "metadata": {},
   "source": [
    "#### Simple check"
   ]
  },
  {
   "cell_type": "code",
   "execution_count": 67,
   "metadata": {},
   "outputs": [],
   "source": [
    "X = np.ones((4, 5), dtype=float) * np.arange(4)[:, None]\n",
    "y = np.arange(4)[:, None] + np.asarray([0.2, -0.3, 0.1, 0.4])[:, None]\n",
    "class_estimator = DecisionTree(max_depth=10, criterion_name='gini')\n",
    "\n",
    "(X_l, y_l), (X_r, y_r) = class_estimator.make_split(1, 1., X, y)\n",
    "\n",
    "assert np.array_equal(X[:1], X_l)\n",
    "assert np.array_equal(X[1:], X_r)\n",
    "assert np.array_equal(y[:1], y_l)\n",
    "assert np.array_equal(y[1:], y_r)"
   ]
  },
  {
   "cell_type": "markdown",
   "metadata": {},
   "source": [
    "#### Classification problem"
   ]
  },
  {
   "cell_type": "code",
   "execution_count": 68,
   "metadata": {},
   "outputs": [],
   "source": [
    "digits_data = load_digits().data\n",
    "digits_target = load_digits().target[:, None] # to make the targets consistent with our model interfaces\n",
    "X_train, X_test, y_train, y_test = train_test_split(digits_data, digits_target, test_size=0.2, random_state=RANDOM_STATE)"
   ]
  },
  {
   "cell_type": "code",
   "execution_count": 69,
   "metadata": {},
   "outputs": [],
   "source": [
    "assert len(y_train.shape) == 2 and y_train.shape[0] == len(X_train)"
   ]
  },
  {
   "cell_type": "code",
   "execution_count": 73,
   "metadata": {},
   "outputs": [
    {
     "name": "stderr",
     "output_type": "stream",
     "text": [
      "/run/media/constantfear/8E626319626304F5/Projects/venvs/.mainvenv/lib/python3.11/site-packages/numpy/core/fromnumeric.py:3504: RuntimeWarning: Mean of empty slice.\n",
      "  return _methods._mean(a, axis=axis, dtype=dtype,\n",
      "/run/media/constantfear/8E626319626304F5/Projects/venvs/.mainvenv/lib/python3.11/site-packages/numpy/core/_methods.py:121: RuntimeWarning: divide by zero encountered in divide\n",
      "  ret = um.true_divide(\n",
      "/run/media/constantfear/8E626319626304F5/Projects/venvs/.mainvenv/lib/python3.11/site-packages/numpy/core/_methods.py:121: RuntimeWarning: invalid value encountered in divide\n",
      "  ret = um.true_divide(\n"
     ]
    },
    {
     "name": "stdout",
     "output_type": "stream",
     "text": [
      "0.2111111111111111\n"
     ]
    }
   ],
   "source": [
    "class_estimator = DecisionTree(max_depth=10, criterion_name='gini')\n",
    "class_estimator.fit(X_train, y_train)\n",
    "ans = class_estimator.predict(X_test)\n",
    "accuracy_gini = accuracy_score(y_test, ans)\n",
    "print(accuracy_gini)"
   ]
  },
  {
   "cell_type": "code",
   "execution_count": 71,
   "metadata": {},
   "outputs": [],
   "source": [
    "reference = np.array([0.09027778, 0.09236111, 0.08333333, 0.09583333, 0.11944444,\n",
    "       0.13888889, 0.09930556, 0.09444444, 0.08055556, 0.10555556])"
   ]
  },
  {
   "cell_type": "code",
   "execution_count": 74,
   "metadata": {},
   "outputs": [
    {
     "name": "stderr",
     "output_type": "stream",
     "text": [
      "/run/media/constantfear/8E626319626304F5/Projects/venvs/.mainvenv/lib/python3.11/site-packages/numpy/core/fromnumeric.py:3504: RuntimeWarning: Mean of empty slice.\n",
      "  return _methods._mean(a, axis=axis, dtype=dtype,\n",
      "/run/media/constantfear/8E626319626304F5/Projects/venvs/.mainvenv/lib/python3.11/site-packages/numpy/core/_methods.py:121: RuntimeWarning: divide by zero encountered in divide\n",
      "  ret = um.true_divide(\n",
      "/run/media/constantfear/8E626319626304F5/Projects/venvs/.mainvenv/lib/python3.11/site-packages/numpy/core/_methods.py:121: RuntimeWarning: invalid value encountered in divide\n",
      "  ret = um.true_divide(\n"
     ]
    },
    {
     "name": "stdout",
     "output_type": "stream",
     "text": [
      "0.33055555555555555\n"
     ]
    }
   ],
   "source": [
    "class_estimator = DecisionTree(max_depth=10, criterion_name='entropy')\n",
    "class_estimator.fit(X_train, y_train)\n",
    "ans = class_estimator.predict(X_test)\n",
    "accuracy_entropy = accuracy_score(y_test, ans)\n",
    "print(accuracy_entropy)"
   ]
  },
  {
   "cell_type": "code",
   "execution_count": 75,
   "metadata": {},
   "outputs": [
    {
     "ename": "AssertionError",
     "evalue": "",
     "output_type": "error",
     "traceback": [
      "\u001b[0;31m---------------------------------------------------------------------------\u001b[0m",
      "\u001b[0;31mAssertionError\u001b[0m                            Traceback (most recent call last)",
      "\u001b[1;32m/run/media/constantfear/8E626319626304F5/Projects/data-science-portfolio/Girafe-AI ML course/assignment0_04_tree/assignment0_04_decision_tree.ipynb Cell 19\u001b[0m line \u001b[0;36m3\n\u001b[1;32m      <a href='vscode-notebook-cell:/run/media/constantfear/8E626319626304F5/Projects/data-science-portfolio/Girafe-AI%20ML%20course/assignment0_04_tree/assignment0_04_decision_tree.ipynb#X24sZmlsZQ%3D%3D?line=0'>1</a>\u001b[0m \u001b[39m# assert  0.84 < accuracy_gini < 0.9\u001b[39;00m\n\u001b[1;32m      <a href='vscode-notebook-cell:/run/media/constantfear/8E626319626304F5/Projects/data-science-portfolio/Girafe-AI%20ML%20course/assignment0_04_tree/assignment0_04_decision_tree.ipynb#X24sZmlsZQ%3D%3D?line=1'>2</a>\u001b[0m \u001b[39m# assert  0.86 < accuracy_entropy < 0.9\u001b[39;00m\n\u001b[0;32m----> <a href='vscode-notebook-cell:/run/media/constantfear/8E626319626304F5/Projects/data-science-portfolio/Girafe-AI%20ML%20course/assignment0_04_tree/assignment0_04_decision_tree.ipynb#X24sZmlsZQ%3D%3D?line=2'>3</a>\u001b[0m \u001b[39massert\u001b[39;00m np\u001b[39m.\u001b[39msum(np\u001b[39m.\u001b[39mabs(class_estimator\u001b[39m.\u001b[39mpredict_proba(X_test)\u001b[39m.\u001b[39mmean(axis\u001b[39m=\u001b[39m\u001b[39m0\u001b[39m) \u001b[39m-\u001b[39m reference)) \u001b[39m<\u001b[39m \u001b[39m1e-4\u001b[39m\n",
      "\u001b[0;31mAssertionError\u001b[0m: "
     ]
    }
   ],
   "source": [
    "# assert  0.84 < accuracy_gini < 0.9\n",
    "# assert  0.86 < accuracy_entropy < 0.9\n",
    "assert np.sum(np.abs(class_estimator.predict_proba(X_test).mean(axis=0) - reference)) < 1e-4"
   ]
  },
  {
   "cell_type": "markdown",
   "metadata": {},
   "source": [
    "Let's use 5-fold cross validation (`GridSearchCV`) to find optimal values for `max_depth` and `criterion` hyperparameters."
   ]
  },
  {
   "cell_type": "code",
   "execution_count": 25,
   "metadata": {},
   "outputs": [],
   "source": [
    "param_grid = {'max_depth': range(3,11), 'criterion_name': ['gini', 'entropy']}\n",
    "gs = GridSearchCV(DecisionTree(), param_grid=param_grid, cv=5, scoring='accuracy', n_jobs=-2)"
   ]
  },
  {
   "cell_type": "code",
   "execution_count": 26,
   "metadata": {},
   "outputs": [
    {
     "name": "stderr",
     "output_type": "stream",
     "text": [
      "/run/media/constantfear/8E626319626304F5/Projects/venvs/.mainvenv/lib/python3.11/site-packages/numpy/core/fromnumeric.py:3504: RuntimeWarning: Mean of empty slice.\n",
      "  return _methods._mean(a, axis=axis, dtype=dtype,\n",
      "/run/media/constantfear/8E626319626304F5/Projects/venvs/.mainvenv/lib/python3.11/site-packages/numpy/core/fromnumeric.py:3504: RuntimeWarning: Mean of empty slice.\n",
      "  return _methods._mean(a, axis=axis, dtype=dtype,\n",
      "/run/media/constantfear/8E626319626304F5/Projects/venvs/.mainvenv/lib/python3.11/site-packages/numpy/core/fromnumeric.py:3504: RuntimeWarning: Mean of empty slice.\n",
      "  return _methods._mean(a, axis=axis, dtype=dtype,\n",
      "/run/media/constantfear/8E626319626304F5/Projects/venvs/.mainvenv/lib/python3.11/site-packages/numpy/core/fromnumeric.py:3504: RuntimeWarning: Mean of empty slice.\n",
      "  return _methods._mean(a, axis=axis, dtype=dtype,\n",
      "/run/media/constantfear/8E626319626304F5/Projects/venvs/.mainvenv/lib/python3.11/site-packages/numpy/core/fromnumeric.py:3504: RuntimeWarning: Mean of empty slice.\n",
      "  return _methods._mean(a, axis=axis, dtype=dtype,\n",
      "/run/media/constantfear/8E626319626304F5/Projects/venvs/.mainvenv/lib/python3.11/site-packages/numpy/core/_methods.py:121: RuntimeWarning: divide by zero encountered in divide\n",
      "  ret = um.true_divide(\n",
      "/run/media/constantfear/8E626319626304F5/Projects/venvs/.mainvenv/lib/python3.11/site-packages/numpy/core/_methods.py:121: RuntimeWarning: invalid value encountered in divide\n",
      "  ret = um.true_divide(\n",
      "/run/media/constantfear/8E626319626304F5/Projects/venvs/.mainvenv/lib/python3.11/site-packages/numpy/core/fromnumeric.py:3504: RuntimeWarning: Mean of empty slice.\n",
      "  return _methods._mean(a, axis=axis, dtype=dtype,\n",
      "/run/media/constantfear/8E626319626304F5/Projects/venvs/.mainvenv/lib/python3.11/site-packages/numpy/core/_methods.py:121: RuntimeWarning: divide by zero encountered in divide\n",
      "  ret = um.true_divide(\n",
      "/run/media/constantfear/8E626319626304F5/Projects/venvs/.mainvenv/lib/python3.11/site-packages/numpy/core/_methods.py:121: RuntimeWarning: invalid value encountered in divide\n",
      "  ret = um.true_divide(\n",
      "/run/media/constantfear/8E626319626304F5/Projects/venvs/.mainvenv/lib/python3.11/site-packages/numpy/core/_methods.py:121: RuntimeWarning: divide by zero encountered in divide\n",
      "  ret = um.true_divide(\n",
      "/run/media/constantfear/8E626319626304F5/Projects/venvs/.mainvenv/lib/python3.11/site-packages/numpy/core/_methods.py:121: RuntimeWarning: invalid value encountered in divide\n",
      "  ret = um.true_divide(\n",
      "/run/media/constantfear/8E626319626304F5/Projects/venvs/.mainvenv/lib/python3.11/site-packages/numpy/core/fromnumeric.py:3504: RuntimeWarning: Mean of empty slice.\n",
      "  return _methods._mean(a, axis=axis, dtype=dtype,\n",
      "/run/media/constantfear/8E626319626304F5/Projects/venvs/.mainvenv/lib/python3.11/site-packages/numpy/core/_methods.py:121: RuntimeWarning: divide by zero encountered in divide\n",
      "  ret = um.true_divide(\n",
      "/run/media/constantfear/8E626319626304F5/Projects/venvs/.mainvenv/lib/python3.11/site-packages/numpy/core/_methods.py:121: RuntimeWarning: divide by zero encountered in divide\n",
      "  ret = um.true_divide(\n",
      "/run/media/constantfear/8E626319626304F5/Projects/venvs/.mainvenv/lib/python3.11/site-packages/numpy/core/_methods.py:121: RuntimeWarning: invalid value encountered in divide\n",
      "  ret = um.true_divide(\n",
      "/run/media/constantfear/8E626319626304F5/Projects/venvs/.mainvenv/lib/python3.11/site-packages/numpy/core/_methods.py:121: RuntimeWarning: invalid value encountered in divide\n",
      "  ret = um.true_divide(\n",
      "/run/media/constantfear/8E626319626304F5/Projects/venvs/.mainvenv/lib/python3.11/site-packages/numpy/core/fromnumeric.py:3504: RuntimeWarning: Mean of empty slice.\n",
      "  return _methods._mean(a, axis=axis, dtype=dtype,\n",
      "/run/media/constantfear/8E626319626304F5/Projects/venvs/.mainvenv/lib/python3.11/site-packages/numpy/core/_methods.py:121: RuntimeWarning: divide by zero encountered in divide\n",
      "  ret = um.true_divide(\n",
      "/run/media/constantfear/8E626319626304F5/Projects/venvs/.mainvenv/lib/python3.11/site-packages/numpy/core/fromnumeric.py:3504: RuntimeWarning: Mean of empty slice.\n",
      "  return _methods._mean(a, axis=axis, dtype=dtype,\n",
      "/run/media/constantfear/8E626319626304F5/Projects/venvs/.mainvenv/lib/python3.11/site-packages/numpy/core/_methods.py:121: RuntimeWarning: invalid value encountered in divide\n",
      "  ret = um.true_divide(\n",
      "/run/media/constantfear/8E626319626304F5/Projects/venvs/.mainvenv/lib/python3.11/site-packages/numpy/core/_methods.py:121: RuntimeWarning: divide by zero encountered in divide\n",
      "  ret = um.true_divide(\n",
      "/run/media/constantfear/8E626319626304F5/Projects/venvs/.mainvenv/lib/python3.11/site-packages/numpy/core/_methods.py:121: RuntimeWarning: divide by zero encountered in divide\n",
      "  ret = um.true_divide(\n",
      "/run/media/constantfear/8E626319626304F5/Projects/venvs/.mainvenv/lib/python3.11/site-packages/numpy/core/_methods.py:121: RuntimeWarning: invalid value encountered in divide\n",
      "  ret = um.true_divide(\n",
      "/run/media/constantfear/8E626319626304F5/Projects/venvs/.mainvenv/lib/python3.11/site-packages/numpy/core/fromnumeric.py:3504: RuntimeWarning: Mean of empty slice.\n",
      "  return _methods._mean(a, axis=axis, dtype=dtype,\n",
      "/run/media/constantfear/8E626319626304F5/Projects/venvs/.mainvenv/lib/python3.11/site-packages/numpy/core/_methods.py:121: RuntimeWarning: invalid value encountered in divide\n",
      "  ret = um.true_divide(\n",
      "/run/media/constantfear/8E626319626304F5/Projects/venvs/.mainvenv/lib/python3.11/site-packages/numpy/core/_methods.py:121: RuntimeWarning: divide by zero encountered in divide\n",
      "  ret = um.true_divide(\n",
      "/run/media/constantfear/8E626319626304F5/Projects/venvs/.mainvenv/lib/python3.11/site-packages/numpy/core/_methods.py:121: RuntimeWarning: invalid value encountered in divide\n",
      "  ret = um.true_divide(\n",
      "/run/media/constantfear/8E626319626304F5/Projects/venvs/.mainvenv/lib/python3.11/site-packages/numpy/core/_methods.py:121: RuntimeWarning: divide by zero encountered in divide\n",
      "  ret = um.true_divide(\n",
      "/run/media/constantfear/8E626319626304F5/Projects/venvs/.mainvenv/lib/python3.11/site-packages/numpy/core/_methods.py:121: RuntimeWarning: invalid value encountered in divide\n",
      "  ret = um.true_divide(\n",
      "/run/media/constantfear/8E626319626304F5/Projects/venvs/.mainvenv/lib/python3.11/site-packages/numpy/core/fromnumeric.py:3504: RuntimeWarning: Mean of empty slice.\n",
      "  return _methods._mean(a, axis=axis, dtype=dtype,\n",
      "/run/media/constantfear/8E626319626304F5/Projects/venvs/.mainvenv/lib/python3.11/site-packages/numpy/core/_methods.py:121: RuntimeWarning: divide by zero encountered in divide\n",
      "  ret = um.true_divide(\n",
      "/run/media/constantfear/8E626319626304F5/Projects/venvs/.mainvenv/lib/python3.11/site-packages/numpy/core/_methods.py:121: RuntimeWarning: invalid value encountered in divide\n",
      "  ret = um.true_divide(\n",
      "/run/media/constantfear/8E626319626304F5/Projects/venvs/.mainvenv/lib/python3.11/site-packages/numpy/core/fromnumeric.py:3504: RuntimeWarning: Mean of empty slice.\n",
      "  return _methods._mean(a, axis=axis, dtype=dtype,\n",
      "/run/media/constantfear/8E626319626304F5/Projects/venvs/.mainvenv/lib/python3.11/site-packages/numpy/core/_methods.py:121: RuntimeWarning: divide by zero encountered in divide\n",
      "  ret = um.true_divide(\n",
      "/run/media/constantfear/8E626319626304F5/Projects/venvs/.mainvenv/lib/python3.11/site-packages/numpy/core/_methods.py:121: RuntimeWarning: invalid value encountered in divide\n",
      "  ret = um.true_divide(\n",
      "/run/media/constantfear/8E626319626304F5/Projects/venvs/.mainvenv/lib/python3.11/site-packages/numpy/core/fromnumeric.py:3504: RuntimeWarning: Mean of empty slice.\n",
      "  return _methods._mean(a, axis=axis, dtype=dtype,\n",
      "/run/media/constantfear/8E626319626304F5/Projects/venvs/.mainvenv/lib/python3.11/site-packages/numpy/core/_methods.py:121: RuntimeWarning: divide by zero encountered in divide\n",
      "  ret = um.true_divide(\n",
      "/run/media/constantfear/8E626319626304F5/Projects/venvs/.mainvenv/lib/python3.11/site-packages/numpy/core/_methods.py:121: RuntimeWarning: invalid value encountered in divide\n",
      "  ret = um.true_divide(\n",
      "/run/media/constantfear/8E626319626304F5/Projects/venvs/.mainvenv/lib/python3.11/site-packages/numpy/core/fromnumeric.py:3504: RuntimeWarning: Mean of empty slice.\n",
      "  return _methods._mean(a, axis=axis, dtype=dtype,\n",
      "/run/media/constantfear/8E626319626304F5/Projects/venvs/.mainvenv/lib/python3.11/site-packages/numpy/core/_methods.py:121: RuntimeWarning: divide by zero encountered in divide\n",
      "  ret = um.true_divide(\n",
      "/run/media/constantfear/8E626319626304F5/Projects/venvs/.mainvenv/lib/python3.11/site-packages/numpy/core/_methods.py:121: RuntimeWarning: invalid value encountered in divide\n",
      "  ret = um.true_divide(\n",
      "/run/media/constantfear/8E626319626304F5/Projects/venvs/.mainvenv/lib/python3.11/site-packages/numpy/core/fromnumeric.py:3504: RuntimeWarning: Mean of empty slice.\n",
      "  return _methods._mean(a, axis=axis, dtype=dtype,\n",
      "/run/media/constantfear/8E626319626304F5/Projects/venvs/.mainvenv/lib/python3.11/site-packages/numpy/core/_methods.py:121: RuntimeWarning: divide by zero encountered in divide\n",
      "  ret = um.true_divide(\n",
      "/run/media/constantfear/8E626319626304F5/Projects/venvs/.mainvenv/lib/python3.11/site-packages/numpy/core/_methods.py:121: RuntimeWarning: invalid value encountered in divide\n",
      "  ret = um.true_divide(\n",
      "/run/media/constantfear/8E626319626304F5/Projects/venvs/.mainvenv/lib/python3.11/site-packages/numpy/core/fromnumeric.py:3504: RuntimeWarning: Mean of empty slice.\n",
      "  return _methods._mean(a, axis=axis, dtype=dtype,\n",
      "/run/media/constantfear/8E626319626304F5/Projects/venvs/.mainvenv/lib/python3.11/site-packages/numpy/core/_methods.py:121: RuntimeWarning: divide by zero encountered in divide\n",
      "  ret = um.true_divide(\n",
      "/run/media/constantfear/8E626319626304F5/Projects/venvs/.mainvenv/lib/python3.11/site-packages/numpy/core/_methods.py:121: RuntimeWarning: invalid value encountered in divide\n",
      "  ret = um.true_divide(\n",
      "/run/media/constantfear/8E626319626304F5/Projects/venvs/.mainvenv/lib/python3.11/site-packages/numpy/core/fromnumeric.py:3504: RuntimeWarning: Mean of empty slice.\n",
      "  return _methods._mean(a, axis=axis, dtype=dtype,\n",
      "/run/media/constantfear/8E626319626304F5/Projects/venvs/.mainvenv/lib/python3.11/site-packages/numpy/core/_methods.py:121: RuntimeWarning: divide by zero encountered in divide\n",
      "  ret = um.true_divide(\n",
      "/run/media/constantfear/8E626319626304F5/Projects/venvs/.mainvenv/lib/python3.11/site-packages/numpy/core/_methods.py:121: RuntimeWarning: invalid value encountered in divide\n",
      "  ret = um.true_divide(\n",
      "/run/media/constantfear/8E626319626304F5/Projects/venvs/.mainvenv/lib/python3.11/site-packages/numpy/core/fromnumeric.py:3504: RuntimeWarning: Mean of empty slice.\n",
      "  return _methods._mean(a, axis=axis, dtype=dtype,\n",
      "/run/media/constantfear/8E626319626304F5/Projects/venvs/.mainvenv/lib/python3.11/site-packages/numpy/core/_methods.py:121: RuntimeWarning: divide by zero encountered in divide\n",
      "  ret = um.true_divide(\n",
      "/run/media/constantfear/8E626319626304F5/Projects/venvs/.mainvenv/lib/python3.11/site-packages/numpy/core/_methods.py:121: RuntimeWarning: invalid value encountered in divide\n",
      "  ret = um.true_divide(\n",
      "/run/media/constantfear/8E626319626304F5/Projects/venvs/.mainvenv/lib/python3.11/site-packages/numpy/core/fromnumeric.py:3504: RuntimeWarning: Mean of empty slice.\n",
      "  return _methods._mean(a, axis=axis, dtype=dtype,\n",
      "/run/media/constantfear/8E626319626304F5/Projects/venvs/.mainvenv/lib/python3.11/site-packages/numpy/core/_methods.py:121: RuntimeWarning: divide by zero encountered in divide\n",
      "  ret = um.true_divide(\n",
      "/run/media/constantfear/8E626319626304F5/Projects/venvs/.mainvenv/lib/python3.11/site-packages/numpy/core/_methods.py:121: RuntimeWarning: invalid value encountered in divide\n",
      "  ret = um.true_divide(\n",
      "/run/media/constantfear/8E626319626304F5/Projects/venvs/.mainvenv/lib/python3.11/site-packages/numpy/core/fromnumeric.py:3504: RuntimeWarning: Mean of empty slice.\n",
      "  return _methods._mean(a, axis=axis, dtype=dtype,\n",
      "/run/media/constantfear/8E626319626304F5/Projects/venvs/.mainvenv/lib/python3.11/site-packages/numpy/core/_methods.py:121: RuntimeWarning: divide by zero encountered in divide\n",
      "  ret = um.true_divide(\n",
      "/run/media/constantfear/8E626319626304F5/Projects/venvs/.mainvenv/lib/python3.11/site-packages/numpy/core/_methods.py:121: RuntimeWarning: invalid value encountered in divide\n",
      "  ret = um.true_divide(\n",
      "/run/media/constantfear/8E626319626304F5/Projects/venvs/.mainvenv/lib/python3.11/site-packages/numpy/core/fromnumeric.py:3504: RuntimeWarning: Mean of empty slice.\n",
      "  return _methods._mean(a, axis=axis, dtype=dtype,\n",
      "/run/media/constantfear/8E626319626304F5/Projects/venvs/.mainvenv/lib/python3.11/site-packages/numpy/core/_methods.py:121: RuntimeWarning: divide by zero encountered in divide\n",
      "  ret = um.true_divide(\n",
      "/run/media/constantfear/8E626319626304F5/Projects/venvs/.mainvenv/lib/python3.11/site-packages/numpy/core/_methods.py:121: RuntimeWarning: invalid value encountered in divide\n",
      "  ret = um.true_divide(\n",
      "/run/media/constantfear/8E626319626304F5/Projects/venvs/.mainvenv/lib/python3.11/site-packages/numpy/core/fromnumeric.py:3504: RuntimeWarning: Mean of empty slice.\n",
      "  return _methods._mean(a, axis=axis, dtype=dtype,\n",
      "/run/media/constantfear/8E626319626304F5/Projects/venvs/.mainvenv/lib/python3.11/site-packages/numpy/core/_methods.py:121: RuntimeWarning: divide by zero encountered in divide\n",
      "  ret = um.true_divide(\n",
      "/run/media/constantfear/8E626319626304F5/Projects/venvs/.mainvenv/lib/python3.11/site-packages/numpy/core/_methods.py:121: RuntimeWarning: invalid value encountered in divide\n",
      "  ret = um.true_divide(\n",
      "/run/media/constantfear/8E626319626304F5/Projects/venvs/.mainvenv/lib/python3.11/site-packages/numpy/core/fromnumeric.py:3504: RuntimeWarning: Mean of empty slice.\n",
      "  return _methods._mean(a, axis=axis, dtype=dtype,\n",
      "/run/media/constantfear/8E626319626304F5/Projects/venvs/.mainvenv/lib/python3.11/site-packages/numpy/core/_methods.py:121: RuntimeWarning: divide by zero encountered in divide\n",
      "  ret = um.true_divide(\n",
      "/run/media/constantfear/8E626319626304F5/Projects/venvs/.mainvenv/lib/python3.11/site-packages/numpy/core/_methods.py:121: RuntimeWarning: invalid value encountered in divide\n",
      "  ret = um.true_divide(\n",
      "/run/media/constantfear/8E626319626304F5/Projects/venvs/.mainvenv/lib/python3.11/site-packages/numpy/core/fromnumeric.py:3504: RuntimeWarning: Mean of empty slice.\n",
      "  return _methods._mean(a, axis=axis, dtype=dtype,\n",
      "/run/media/constantfear/8E626319626304F5/Projects/venvs/.mainvenv/lib/python3.11/site-packages/numpy/core/_methods.py:121: RuntimeWarning: divide by zero encountered in divide\n",
      "  ret = um.true_divide(\n",
      "/run/media/constantfear/8E626319626304F5/Projects/venvs/.mainvenv/lib/python3.11/site-packages/numpy/core/_methods.py:121: RuntimeWarning: invalid value encountered in divide\n",
      "  ret = um.true_divide(\n",
      "/run/media/constantfear/8E626319626304F5/Projects/venvs/.mainvenv/lib/python3.11/site-packages/numpy/core/fromnumeric.py:3504: RuntimeWarning: Mean of empty slice.\n",
      "  return _methods._mean(a, axis=axis, dtype=dtype,\n",
      "/run/media/constantfear/8E626319626304F5/Projects/venvs/.mainvenv/lib/python3.11/site-packages/numpy/core/_methods.py:121: RuntimeWarning: divide by zero encountered in divide\n",
      "  ret = um.true_divide(\n",
      "/run/media/constantfear/8E626319626304F5/Projects/venvs/.mainvenv/lib/python3.11/site-packages/numpy/core/_methods.py:121: RuntimeWarning: invalid value encountered in divide\n",
      "  ret = um.true_divide(\n",
      "/run/media/constantfear/8E626319626304F5/Projects/venvs/.mainvenv/lib/python3.11/site-packages/numpy/core/fromnumeric.py:3504: RuntimeWarning: Mean of empty slice.\n",
      "  return _methods._mean(a, axis=axis, dtype=dtype,\n",
      "/run/media/constantfear/8E626319626304F5/Projects/venvs/.mainvenv/lib/python3.11/site-packages/numpy/core/_methods.py:121: RuntimeWarning: divide by zero encountered in divide\n",
      "  ret = um.true_divide(\n",
      "/run/media/constantfear/8E626319626304F5/Projects/venvs/.mainvenv/lib/python3.11/site-packages/numpy/core/_methods.py:121: RuntimeWarning: invalid value encountered in divide\n",
      "  ret = um.true_divide(\n",
      "/run/media/constantfear/8E626319626304F5/Projects/venvs/.mainvenv/lib/python3.11/site-packages/numpy/core/fromnumeric.py:3504: RuntimeWarning: Mean of empty slice.\n",
      "  return _methods._mean(a, axis=axis, dtype=dtype,\n",
      "/run/media/constantfear/8E626319626304F5/Projects/venvs/.mainvenv/lib/python3.11/site-packages/numpy/core/_methods.py:121: RuntimeWarning: divide by zero encountered in divide\n",
      "  ret = um.true_divide(\n",
      "/run/media/constantfear/8E626319626304F5/Projects/venvs/.mainvenv/lib/python3.11/site-packages/numpy/core/_methods.py:121: RuntimeWarning: invalid value encountered in divide\n",
      "  ret = um.true_divide(\n",
      "/run/media/constantfear/8E626319626304F5/Projects/venvs/.mainvenv/lib/python3.11/site-packages/numpy/core/fromnumeric.py:3504: RuntimeWarning: Mean of empty slice.\n",
      "  return _methods._mean(a, axis=axis, dtype=dtype,\n",
      "/run/media/constantfear/8E626319626304F5/Projects/venvs/.mainvenv/lib/python3.11/site-packages/numpy/core/_methods.py:121: RuntimeWarning: divide by zero encountered in divide\n",
      "  ret = um.true_divide(\n",
      "/run/media/constantfear/8E626319626304F5/Projects/venvs/.mainvenv/lib/python3.11/site-packages/numpy/core/_methods.py:121: RuntimeWarning: invalid value encountered in divide\n",
      "  ret = um.true_divide(\n",
      "/run/media/constantfear/8E626319626304F5/Projects/venvs/.mainvenv/lib/python3.11/site-packages/numpy/core/fromnumeric.py:3504: RuntimeWarning: Mean of empty slice.\n",
      "  return _methods._mean(a, axis=axis, dtype=dtype,\n",
      "/run/media/constantfear/8E626319626304F5/Projects/venvs/.mainvenv/lib/python3.11/site-packages/numpy/core/_methods.py:121: RuntimeWarning: divide by zero encountered in divide\n",
      "  ret = um.true_divide(\n",
      "/run/media/constantfear/8E626319626304F5/Projects/venvs/.mainvenv/lib/python3.11/site-packages/numpy/core/_methods.py:121: RuntimeWarning: invalid value encountered in divide\n",
      "  ret = um.true_divide(\n",
      "/run/media/constantfear/8E626319626304F5/Projects/venvs/.mainvenv/lib/python3.11/site-packages/numpy/core/fromnumeric.py:3504: RuntimeWarning: Mean of empty slice.\n",
      "  return _methods._mean(a, axis=axis, dtype=dtype,\n",
      "/run/media/constantfear/8E626319626304F5/Projects/venvs/.mainvenv/lib/python3.11/site-packages/numpy/core/_methods.py:121: RuntimeWarning: divide by zero encountered in divide\n",
      "  ret = um.true_divide(\n",
      "/run/media/constantfear/8E626319626304F5/Projects/venvs/.mainvenv/lib/python3.11/site-packages/numpy/core/_methods.py:121: RuntimeWarning: invalid value encountered in divide\n",
      "  ret = um.true_divide(\n",
      "/run/media/constantfear/8E626319626304F5/Projects/venvs/.mainvenv/lib/python3.11/site-packages/numpy/core/fromnumeric.py:3504: RuntimeWarning: Mean of empty slice.\n",
      "  return _methods._mean(a, axis=axis, dtype=dtype,\n",
      "/run/media/constantfear/8E626319626304F5/Projects/venvs/.mainvenv/lib/python3.11/site-packages/numpy/core/_methods.py:121: RuntimeWarning: divide by zero encountered in divide\n",
      "  ret = um.true_divide(\n",
      "/run/media/constantfear/8E626319626304F5/Projects/venvs/.mainvenv/lib/python3.11/site-packages/numpy/core/_methods.py:121: RuntimeWarning: invalid value encountered in divide\n",
      "  ret = um.true_divide(\n",
      "/run/media/constantfear/8E626319626304F5/Projects/venvs/.mainvenv/lib/python3.11/site-packages/numpy/core/fromnumeric.py:3504: RuntimeWarning: Mean of empty slice.\n",
      "  return _methods._mean(a, axis=axis, dtype=dtype,\n",
      "/run/media/constantfear/8E626319626304F5/Projects/venvs/.mainvenv/lib/python3.11/site-packages/numpy/core/_methods.py:121: RuntimeWarning: divide by zero encountered in divide\n",
      "  ret = um.true_divide(\n",
      "/run/media/constantfear/8E626319626304F5/Projects/venvs/.mainvenv/lib/python3.11/site-packages/numpy/core/_methods.py:121: RuntimeWarning: invalid value encountered in divide\n",
      "  ret = um.true_divide(\n",
      "/run/media/constantfear/8E626319626304F5/Projects/venvs/.mainvenv/lib/python3.11/site-packages/numpy/core/fromnumeric.py:3504: RuntimeWarning: Mean of empty slice.\n",
      "  return _methods._mean(a, axis=axis, dtype=dtype,\n",
      "/run/media/constantfear/8E626319626304F5/Projects/venvs/.mainvenv/lib/python3.11/site-packages/numpy/core/_methods.py:121: RuntimeWarning: divide by zero encountered in divide\n",
      "  ret = um.true_divide(\n",
      "/run/media/constantfear/8E626319626304F5/Projects/venvs/.mainvenv/lib/python3.11/site-packages/numpy/core/_methods.py:121: RuntimeWarning: invalid value encountered in divide\n",
      "  ret = um.true_divide(\n",
      "/run/media/constantfear/8E626319626304F5/Projects/venvs/.mainvenv/lib/python3.11/site-packages/numpy/core/fromnumeric.py:3504: RuntimeWarning: Mean of empty slice.\n",
      "  return _methods._mean(a, axis=axis, dtype=dtype,\n",
      "/run/media/constantfear/8E626319626304F5/Projects/venvs/.mainvenv/lib/python3.11/site-packages/numpy/core/_methods.py:121: RuntimeWarning: divide by zero encountered in divide\n",
      "  ret = um.true_divide(\n",
      "/run/media/constantfear/8E626319626304F5/Projects/venvs/.mainvenv/lib/python3.11/site-packages/numpy/core/_methods.py:121: RuntimeWarning: invalid value encountered in divide\n",
      "  ret = um.true_divide(\n",
      "/run/media/constantfear/8E626319626304F5/Projects/venvs/.mainvenv/lib/python3.11/site-packages/numpy/core/fromnumeric.py:3504: RuntimeWarning: Mean of empty slice.\n",
      "  return _methods._mean(a, axis=axis, dtype=dtype,\n",
      "/run/media/constantfear/8E626319626304F5/Projects/venvs/.mainvenv/lib/python3.11/site-packages/numpy/core/_methods.py:121: RuntimeWarning: divide by zero encountered in divide\n",
      "  ret = um.true_divide(\n",
      "/run/media/constantfear/8E626319626304F5/Projects/venvs/.mainvenv/lib/python3.11/site-packages/numpy/core/_methods.py:121: RuntimeWarning: invalid value encountered in divide\n",
      "  ret = um.true_divide(\n",
      "/run/media/constantfear/8E626319626304F5/Projects/venvs/.mainvenv/lib/python3.11/site-packages/numpy/core/fromnumeric.py:3504: RuntimeWarning: Mean of empty slice.\n",
      "  return _methods._mean(a, axis=axis, dtype=dtype,\n",
      "/run/media/constantfear/8E626319626304F5/Projects/venvs/.mainvenv/lib/python3.11/site-packages/numpy/core/_methods.py:121: RuntimeWarning: divide by zero encountered in divide\n",
      "  ret = um.true_divide(\n",
      "/run/media/constantfear/8E626319626304F5/Projects/venvs/.mainvenv/lib/python3.11/site-packages/numpy/core/_methods.py:121: RuntimeWarning: invalid value encountered in divide\n",
      "  ret = um.true_divide(\n",
      "/run/media/constantfear/8E626319626304F5/Projects/venvs/.mainvenv/lib/python3.11/site-packages/numpy/core/fromnumeric.py:3504: RuntimeWarning: Mean of empty slice.\n",
      "  return _methods._mean(a, axis=axis, dtype=dtype,\n",
      "/run/media/constantfear/8E626319626304F5/Projects/venvs/.mainvenv/lib/python3.11/site-packages/numpy/core/_methods.py:121: RuntimeWarning: divide by zero encountered in divide\n",
      "  ret = um.true_divide(\n",
      "/run/media/constantfear/8E626319626304F5/Projects/venvs/.mainvenv/lib/python3.11/site-packages/numpy/core/_methods.py:121: RuntimeWarning: invalid value encountered in divide\n",
      "  ret = um.true_divide(\n",
      "/run/media/constantfear/8E626319626304F5/Projects/venvs/.mainvenv/lib/python3.11/site-packages/numpy/core/fromnumeric.py:3504: RuntimeWarning: Mean of empty slice.\n",
      "  return _methods._mean(a, axis=axis, dtype=dtype,\n",
      "/run/media/constantfear/8E626319626304F5/Projects/venvs/.mainvenv/lib/python3.11/site-packages/numpy/core/_methods.py:121: RuntimeWarning: divide by zero encountered in divide\n",
      "  ret = um.true_divide(\n",
      "/run/media/constantfear/8E626319626304F5/Projects/venvs/.mainvenv/lib/python3.11/site-packages/numpy/core/_methods.py:121: RuntimeWarning: invalid value encountered in divide\n",
      "  ret = um.true_divide(\n",
      "/run/media/constantfear/8E626319626304F5/Projects/venvs/.mainvenv/lib/python3.11/site-packages/numpy/core/fromnumeric.py:3504: RuntimeWarning: Mean of empty slice.\n",
      "  return _methods._mean(a, axis=axis, dtype=dtype,\n",
      "/run/media/constantfear/8E626319626304F5/Projects/venvs/.mainvenv/lib/python3.11/site-packages/numpy/core/_methods.py:121: RuntimeWarning: divide by zero encountered in divide\n",
      "  ret = um.true_divide(\n",
      "/run/media/constantfear/8E626319626304F5/Projects/venvs/.mainvenv/lib/python3.11/site-packages/numpy/core/_methods.py:121: RuntimeWarning: invalid value encountered in divide\n",
      "  ret = um.true_divide(\n",
      "/run/media/constantfear/8E626319626304F5/Projects/venvs/.mainvenv/lib/python3.11/site-packages/numpy/core/fromnumeric.py:3504: RuntimeWarning: Mean of empty slice.\n",
      "  return _methods._mean(a, axis=axis, dtype=dtype,\n",
      "/run/media/constantfear/8E626319626304F5/Projects/venvs/.mainvenv/lib/python3.11/site-packages/numpy/core/_methods.py:121: RuntimeWarning: divide by zero encountered in divide\n",
      "  ret = um.true_divide(\n",
      "/run/media/constantfear/8E626319626304F5/Projects/venvs/.mainvenv/lib/python3.11/site-packages/numpy/core/_methods.py:121: RuntimeWarning: invalid value encountered in divide\n",
      "  ret = um.true_divide(\n",
      "/run/media/constantfear/8E626319626304F5/Projects/venvs/.mainvenv/lib/python3.11/site-packages/numpy/core/fromnumeric.py:3504: RuntimeWarning: Mean of empty slice.\n",
      "  return _methods._mean(a, axis=axis, dtype=dtype,\n",
      "/run/media/constantfear/8E626319626304F5/Projects/venvs/.mainvenv/lib/python3.11/site-packages/numpy/core/_methods.py:121: RuntimeWarning: divide by zero encountered in divide\n",
      "  ret = um.true_divide(\n",
      "/run/media/constantfear/8E626319626304F5/Projects/venvs/.mainvenv/lib/python3.11/site-packages/numpy/core/_methods.py:121: RuntimeWarning: invalid value encountered in divide\n",
      "  ret = um.true_divide(\n",
      "/run/media/constantfear/8E626319626304F5/Projects/data-science-portfolio/Girafe-AI ML course/assignment0_04_tree/tree.py:22: RuntimeWarning: divide by zero encountered in log\n",
      "  ntrop = -1*np.sum(prob*np.log(prob))\n",
      "/run/media/constantfear/8E626319626304F5/Projects/data-science-portfolio/Girafe-AI ML course/assignment0_04_tree/tree.py:22: RuntimeWarning: invalid value encountered in multiply\n",
      "  ntrop = -1*np.sum(prob*np.log(prob))\n",
      "/run/media/constantfear/8E626319626304F5/Projects/venvs/.mainvenv/lib/python3.11/site-packages/numpy/core/fromnumeric.py:3504: RuntimeWarning: Mean of empty slice.\n",
      "  return _methods._mean(a, axis=axis, dtype=dtype,\n",
      "/run/media/constantfear/8E626319626304F5/Projects/venvs/.mainvenv/lib/python3.11/site-packages/numpy/core/_methods.py:121: RuntimeWarning: divide by zero encountered in divide\n",
      "  ret = um.true_divide(\n",
      "/run/media/constantfear/8E626319626304F5/Projects/venvs/.mainvenv/lib/python3.11/site-packages/numpy/core/_methods.py:121: RuntimeWarning: invalid value encountered in divide\n",
      "  ret = um.true_divide(\n",
      "/run/media/constantfear/8E626319626304F5/Projects/data-science-portfolio/Girafe-AI ML course/assignment0_04_tree/tree.py:22: RuntimeWarning: divide by zero encountered in log\n",
      "  ntrop = -1*np.sum(prob*np.log(prob))\n",
      "/run/media/constantfear/8E626319626304F5/Projects/data-science-portfolio/Girafe-AI ML course/assignment0_04_tree/tree.py:22: RuntimeWarning: invalid value encountered in multiply\n",
      "  ntrop = -1*np.sum(prob*np.log(prob))\n",
      "/run/media/constantfear/8E626319626304F5/Projects/venvs/.mainvenv/lib/python3.11/site-packages/numpy/core/fromnumeric.py:3504: RuntimeWarning: Mean of empty slice.\n",
      "  return _methods._mean(a, axis=axis, dtype=dtype,\n",
      "/run/media/constantfear/8E626319626304F5/Projects/venvs/.mainvenv/lib/python3.11/site-packages/numpy/core/_methods.py:121: RuntimeWarning: divide by zero encountered in divide\n",
      "  ret = um.true_divide(\n",
      "/run/media/constantfear/8E626319626304F5/Projects/venvs/.mainvenv/lib/python3.11/site-packages/numpy/core/_methods.py:121: RuntimeWarning: invalid value encountered in divide\n",
      "  ret = um.true_divide(\n",
      "/run/media/constantfear/8E626319626304F5/Projects/data-science-portfolio/Girafe-AI ML course/assignment0_04_tree/tree.py:22: RuntimeWarning: divide by zero encountered in log\n",
      "  ntrop = -1*np.sum(prob*np.log(prob))\n",
      "/run/media/constantfear/8E626319626304F5/Projects/data-science-portfolio/Girafe-AI ML course/assignment0_04_tree/tree.py:22: RuntimeWarning: invalid value encountered in multiply\n",
      "  ntrop = -1*np.sum(prob*np.log(prob))\n",
      "/run/media/constantfear/8E626319626304F5/Projects/venvs/.mainvenv/lib/python3.11/site-packages/numpy/core/fromnumeric.py:3504: RuntimeWarning: Mean of empty slice.\n",
      "  return _methods._mean(a, axis=axis, dtype=dtype,\n",
      "/run/media/constantfear/8E626319626304F5/Projects/venvs/.mainvenv/lib/python3.11/site-packages/numpy/core/_methods.py:121: RuntimeWarning: divide by zero encountered in divide\n",
      "  ret = um.true_divide(\n",
      "/run/media/constantfear/8E626319626304F5/Projects/venvs/.mainvenv/lib/python3.11/site-packages/numpy/core/_methods.py:121: RuntimeWarning: invalid value encountered in divide\n",
      "  ret = um.true_divide(\n",
      "/run/media/constantfear/8E626319626304F5/Projects/data-science-portfolio/Girafe-AI ML course/assignment0_04_tree/tree.py:22: RuntimeWarning: divide by zero encountered in log\n",
      "  ntrop = -1*np.sum(prob*np.log(prob))\n",
      "/run/media/constantfear/8E626319626304F5/Projects/data-science-portfolio/Girafe-AI ML course/assignment0_04_tree/tree.py:22: RuntimeWarning: invalid value encountered in multiply\n",
      "  ntrop = -1*np.sum(prob*np.log(prob))\n",
      "/run/media/constantfear/8E626319626304F5/Projects/venvs/.mainvenv/lib/python3.11/site-packages/numpy/core/fromnumeric.py:3504: RuntimeWarning: Mean of empty slice.\n",
      "  return _methods._mean(a, axis=axis, dtype=dtype,\n",
      "/run/media/constantfear/8E626319626304F5/Projects/venvs/.mainvenv/lib/python3.11/site-packages/numpy/core/_methods.py:121: RuntimeWarning: divide by zero encountered in divide\n",
      "  ret = um.true_divide(\n",
      "/run/media/constantfear/8E626319626304F5/Projects/venvs/.mainvenv/lib/python3.11/site-packages/numpy/core/_methods.py:121: RuntimeWarning: invalid value encountered in divide\n",
      "  ret = um.true_divide(\n",
      "/run/media/constantfear/8E626319626304F5/Projects/data-science-portfolio/Girafe-AI ML course/assignment0_04_tree/tree.py:22: RuntimeWarning: divide by zero encountered in log\n",
      "  ntrop = -1*np.sum(prob*np.log(prob))\n",
      "/run/media/constantfear/8E626319626304F5/Projects/data-science-portfolio/Girafe-AI ML course/assignment0_04_tree/tree.py:22: RuntimeWarning: invalid value encountered in multiply\n",
      "  ntrop = -1*np.sum(prob*np.log(prob))\n",
      "/run/media/constantfear/8E626319626304F5/Projects/venvs/.mainvenv/lib/python3.11/site-packages/numpy/core/fromnumeric.py:3504: RuntimeWarning: Mean of empty slice.\n",
      "  return _methods._mean(a, axis=axis, dtype=dtype,\n",
      "/run/media/constantfear/8E626319626304F5/Projects/venvs/.mainvenv/lib/python3.11/site-packages/numpy/core/_methods.py:121: RuntimeWarning: divide by zero encountered in divide\n",
      "  ret = um.true_divide(\n",
      "/run/media/constantfear/8E626319626304F5/Projects/venvs/.mainvenv/lib/python3.11/site-packages/numpy/core/_methods.py:121: RuntimeWarning: invalid value encountered in divide\n",
      "  ret = um.true_divide(\n",
      "/run/media/constantfear/8E626319626304F5/Projects/data-science-portfolio/Girafe-AI ML course/assignment0_04_tree/tree.py:22: RuntimeWarning: divide by zero encountered in log\n",
      "  ntrop = -1*np.sum(prob*np.log(prob))\n",
      "/run/media/constantfear/8E626319626304F5/Projects/data-science-portfolio/Girafe-AI ML course/assignment0_04_tree/tree.py:22: RuntimeWarning: invalid value encountered in multiply\n",
      "  ntrop = -1*np.sum(prob*np.log(prob))\n",
      "/run/media/constantfear/8E626319626304F5/Projects/venvs/.mainvenv/lib/python3.11/site-packages/numpy/core/fromnumeric.py:3504: RuntimeWarning: Mean of empty slice.\n",
      "  return _methods._mean(a, axis=axis, dtype=dtype,\n",
      "/run/media/constantfear/8E626319626304F5/Projects/venvs/.mainvenv/lib/python3.11/site-packages/numpy/core/_methods.py:121: RuntimeWarning: divide by zero encountered in divide\n",
      "  ret = um.true_divide(\n",
      "/run/media/constantfear/8E626319626304F5/Projects/venvs/.mainvenv/lib/python3.11/site-packages/numpy/core/_methods.py:121: RuntimeWarning: invalid value encountered in divide\n",
      "  ret = um.true_divide(\n",
      "/run/media/constantfear/8E626319626304F5/Projects/data-science-portfolio/Girafe-AI ML course/assignment0_04_tree/tree.py:22: RuntimeWarning: divide by zero encountered in log\n",
      "  ntrop = -1*np.sum(prob*np.log(prob))\n",
      "/run/media/constantfear/8E626319626304F5/Projects/data-science-portfolio/Girafe-AI ML course/assignment0_04_tree/tree.py:22: RuntimeWarning: invalid value encountered in multiply\n",
      "  ntrop = -1*np.sum(prob*np.log(prob))\n",
      "/run/media/constantfear/8E626319626304F5/Projects/venvs/.mainvenv/lib/python3.11/site-packages/numpy/core/fromnumeric.py:3504: RuntimeWarning: Mean of empty slice.\n",
      "  return _methods._mean(a, axis=axis, dtype=dtype,\n",
      "/run/media/constantfear/8E626319626304F5/Projects/venvs/.mainvenv/lib/python3.11/site-packages/numpy/core/_methods.py:121: RuntimeWarning: divide by zero encountered in divide\n",
      "  ret = um.true_divide(\n",
      "/run/media/constantfear/8E626319626304F5/Projects/venvs/.mainvenv/lib/python3.11/site-packages/numpy/core/_methods.py:121: RuntimeWarning: invalid value encountered in divide\n",
      "  ret = um.true_divide(\n",
      "/run/media/constantfear/8E626319626304F5/Projects/data-science-portfolio/Girafe-AI ML course/assignment0_04_tree/tree.py:22: RuntimeWarning: divide by zero encountered in log\n",
      "  ntrop = -1*np.sum(prob*np.log(prob))\n",
      "/run/media/constantfear/8E626319626304F5/Projects/data-science-portfolio/Girafe-AI ML course/assignment0_04_tree/tree.py:22: RuntimeWarning: invalid value encountered in multiply\n",
      "  ntrop = -1*np.sum(prob*np.log(prob))\n",
      "/run/media/constantfear/8E626319626304F5/Projects/venvs/.mainvenv/lib/python3.11/site-packages/numpy/core/fromnumeric.py:3504: RuntimeWarning: Mean of empty slice.\n",
      "  return _methods._mean(a, axis=axis, dtype=dtype,\n",
      "/run/media/constantfear/8E626319626304F5/Projects/venvs/.mainvenv/lib/python3.11/site-packages/numpy/core/_methods.py:121: RuntimeWarning: divide by zero encountered in divide\n",
      "  ret = um.true_divide(\n",
      "/run/media/constantfear/8E626319626304F5/Projects/venvs/.mainvenv/lib/python3.11/site-packages/numpy/core/_methods.py:121: RuntimeWarning: invalid value encountered in divide\n",
      "  ret = um.true_divide(\n",
      "/run/media/constantfear/8E626319626304F5/Projects/data-science-portfolio/Girafe-AI ML course/assignment0_04_tree/tree.py:22: RuntimeWarning: divide by zero encountered in log\n",
      "  ntrop = -1*np.sum(prob*np.log(prob))\n",
      "/run/media/constantfear/8E626319626304F5/Projects/data-science-portfolio/Girafe-AI ML course/assignment0_04_tree/tree.py:22: RuntimeWarning: invalid value encountered in multiply\n",
      "  ntrop = -1*np.sum(prob*np.log(prob))\n",
      "/run/media/constantfear/8E626319626304F5/Projects/venvs/.mainvenv/lib/python3.11/site-packages/numpy/core/fromnumeric.py:3504: RuntimeWarning: Mean of empty slice.\n",
      "  return _methods._mean(a, axis=axis, dtype=dtype,\n",
      "/run/media/constantfear/8E626319626304F5/Projects/venvs/.mainvenv/lib/python3.11/site-packages/numpy/core/_methods.py:121: RuntimeWarning: divide by zero encountered in divide\n",
      "  ret = um.true_divide(\n",
      "/run/media/constantfear/8E626319626304F5/Projects/venvs/.mainvenv/lib/python3.11/site-packages/numpy/core/_methods.py:121: RuntimeWarning: invalid value encountered in divide\n",
      "  ret = um.true_divide(\n",
      "/run/media/constantfear/8E626319626304F5/Projects/data-science-portfolio/Girafe-AI ML course/assignment0_04_tree/tree.py:22: RuntimeWarning: divide by zero encountered in log\n",
      "  ntrop = -1*np.sum(prob*np.log(prob))\n",
      "/run/media/constantfear/8E626319626304F5/Projects/data-science-portfolio/Girafe-AI ML course/assignment0_04_tree/tree.py:22: RuntimeWarning: invalid value encountered in multiply\n",
      "  ntrop = -1*np.sum(prob*np.log(prob))\n",
      "/run/media/constantfear/8E626319626304F5/Projects/venvs/.mainvenv/lib/python3.11/site-packages/numpy/core/fromnumeric.py:3504: RuntimeWarning: Mean of empty slice.\n",
      "  return _methods._mean(a, axis=axis, dtype=dtype,\n",
      "/run/media/constantfear/8E626319626304F5/Projects/venvs/.mainvenv/lib/python3.11/site-packages/numpy/core/_methods.py:121: RuntimeWarning: divide by zero encountered in divide\n",
      "  ret = um.true_divide(\n",
      "/run/media/constantfear/8E626319626304F5/Projects/venvs/.mainvenv/lib/python3.11/site-packages/numpy/core/_methods.py:121: RuntimeWarning: invalid value encountered in divide\n",
      "  ret = um.true_divide(\n",
      "/run/media/constantfear/8E626319626304F5/Projects/data-science-portfolio/Girafe-AI ML course/assignment0_04_tree/tree.py:22: RuntimeWarning: divide by zero encountered in log\n",
      "  ntrop = -1*np.sum(prob*np.log(prob))\n",
      "/run/media/constantfear/8E626319626304F5/Projects/data-science-portfolio/Girafe-AI ML course/assignment0_04_tree/tree.py:22: RuntimeWarning: invalid value encountered in multiply\n",
      "  ntrop = -1*np.sum(prob*np.log(prob))\n",
      "/run/media/constantfear/8E626319626304F5/Projects/venvs/.mainvenv/lib/python3.11/site-packages/numpy/core/fromnumeric.py:3504: RuntimeWarning: Mean of empty slice.\n",
      "  return _methods._mean(a, axis=axis, dtype=dtype,\n",
      "/run/media/constantfear/8E626319626304F5/Projects/venvs/.mainvenv/lib/python3.11/site-packages/numpy/core/_methods.py:121: RuntimeWarning: divide by zero encountered in divide\n",
      "  ret = um.true_divide(\n",
      "/run/media/constantfear/8E626319626304F5/Projects/venvs/.mainvenv/lib/python3.11/site-packages/numpy/core/_methods.py:121: RuntimeWarning: invalid value encountered in divide\n",
      "  ret = um.true_divide(\n",
      "/run/media/constantfear/8E626319626304F5/Projects/data-science-portfolio/Girafe-AI ML course/assignment0_04_tree/tree.py:22: RuntimeWarning: divide by zero encountered in log\n",
      "  ntrop = -1*np.sum(prob*np.log(prob))\n",
      "/run/media/constantfear/8E626319626304F5/Projects/data-science-portfolio/Girafe-AI ML course/assignment0_04_tree/tree.py:22: RuntimeWarning: invalid value encountered in multiply\n",
      "  ntrop = -1*np.sum(prob*np.log(prob))\n",
      "/run/media/constantfear/8E626319626304F5/Projects/venvs/.mainvenv/lib/python3.11/site-packages/numpy/core/fromnumeric.py:3504: RuntimeWarning: Mean of empty slice.\n",
      "  return _methods._mean(a, axis=axis, dtype=dtype,\n",
      "/run/media/constantfear/8E626319626304F5/Projects/venvs/.mainvenv/lib/python3.11/site-packages/numpy/core/_methods.py:121: RuntimeWarning: divide by zero encountered in divide\n",
      "  ret = um.true_divide(\n",
      "/run/media/constantfear/8E626319626304F5/Projects/venvs/.mainvenv/lib/python3.11/site-packages/numpy/core/_methods.py:121: RuntimeWarning: invalid value encountered in divide\n",
      "  ret = um.true_divide(\n",
      "/run/media/constantfear/8E626319626304F5/Projects/data-science-portfolio/Girafe-AI ML course/assignment0_04_tree/tree.py:22: RuntimeWarning: divide by zero encountered in log\n",
      "  ntrop = -1*np.sum(prob*np.log(prob))\n",
      "/run/media/constantfear/8E626319626304F5/Projects/data-science-portfolio/Girafe-AI ML course/assignment0_04_tree/tree.py:22: RuntimeWarning: invalid value encountered in multiply\n",
      "  ntrop = -1*np.sum(prob*np.log(prob))\n",
      "/run/media/constantfear/8E626319626304F5/Projects/venvs/.mainvenv/lib/python3.11/site-packages/numpy/core/fromnumeric.py:3504: RuntimeWarning: Mean of empty slice.\n",
      "  return _methods._mean(a, axis=axis, dtype=dtype,\n",
      "/run/media/constantfear/8E626319626304F5/Projects/venvs/.mainvenv/lib/python3.11/site-packages/numpy/core/_methods.py:121: RuntimeWarning: divide by zero encountered in divide\n",
      "  ret = um.true_divide(\n",
      "/run/media/constantfear/8E626319626304F5/Projects/venvs/.mainvenv/lib/python3.11/site-packages/numpy/core/_methods.py:121: RuntimeWarning: invalid value encountered in divide\n",
      "  ret = um.true_divide(\n",
      "/run/media/constantfear/8E626319626304F5/Projects/data-science-portfolio/Girafe-AI ML course/assignment0_04_tree/tree.py:22: RuntimeWarning: divide by zero encountered in log\n",
      "  ntrop = -1*np.sum(prob*np.log(prob))\n",
      "/run/media/constantfear/8E626319626304F5/Projects/data-science-portfolio/Girafe-AI ML course/assignment0_04_tree/tree.py:22: RuntimeWarning: invalid value encountered in multiply\n",
      "  ntrop = -1*np.sum(prob*np.log(prob))\n",
      "/run/media/constantfear/8E626319626304F5/Projects/venvs/.mainvenv/lib/python3.11/site-packages/numpy/core/fromnumeric.py:3504: RuntimeWarning: Mean of empty slice.\n",
      "  return _methods._mean(a, axis=axis, dtype=dtype,\n",
      "/run/media/constantfear/8E626319626304F5/Projects/venvs/.mainvenv/lib/python3.11/site-packages/numpy/core/_methods.py:121: RuntimeWarning: divide by zero encountered in divide\n",
      "  ret = um.true_divide(\n",
      "/run/media/constantfear/8E626319626304F5/Projects/venvs/.mainvenv/lib/python3.11/site-packages/numpy/core/_methods.py:121: RuntimeWarning: invalid value encountered in divide\n",
      "  ret = um.true_divide(\n",
      "/run/media/constantfear/8E626319626304F5/Projects/data-science-portfolio/Girafe-AI ML course/assignment0_04_tree/tree.py:22: RuntimeWarning: divide by zero encountered in log\n",
      "  ntrop = -1*np.sum(prob*np.log(prob))\n",
      "/run/media/constantfear/8E626319626304F5/Projects/data-science-portfolio/Girafe-AI ML course/assignment0_04_tree/tree.py:22: RuntimeWarning: invalid value encountered in multiply\n",
      "  ntrop = -1*np.sum(prob*np.log(prob))\n",
      "/run/media/constantfear/8E626319626304F5/Projects/venvs/.mainvenv/lib/python3.11/site-packages/numpy/core/fromnumeric.py:3504: RuntimeWarning: Mean of empty slice.\n",
      "  return _methods._mean(a, axis=axis, dtype=dtype,\n",
      "/run/media/constantfear/8E626319626304F5/Projects/venvs/.mainvenv/lib/python3.11/site-packages/numpy/core/_methods.py:121: RuntimeWarning: divide by zero encountered in divide\n",
      "  ret = um.true_divide(\n",
      "/run/media/constantfear/8E626319626304F5/Projects/venvs/.mainvenv/lib/python3.11/site-packages/numpy/core/_methods.py:121: RuntimeWarning: invalid value encountered in divide\n",
      "  ret = um.true_divide(\n",
      "/run/media/constantfear/8E626319626304F5/Projects/data-science-portfolio/Girafe-AI ML course/assignment0_04_tree/tree.py:22: RuntimeWarning: divide by zero encountered in log\n",
      "  ntrop = -1*np.sum(prob*np.log(prob))\n",
      "/run/media/constantfear/8E626319626304F5/Projects/data-science-portfolio/Girafe-AI ML course/assignment0_04_tree/tree.py:22: RuntimeWarning: invalid value encountered in multiply\n",
      "  ntrop = -1*np.sum(prob*np.log(prob))\n",
      "/run/media/constantfear/8E626319626304F5/Projects/venvs/.mainvenv/lib/python3.11/site-packages/numpy/core/fromnumeric.py:3504: RuntimeWarning: Mean of empty slice.\n",
      "  return _methods._mean(a, axis=axis, dtype=dtype,\n",
      "/run/media/constantfear/8E626319626304F5/Projects/venvs/.mainvenv/lib/python3.11/site-packages/numpy/core/_methods.py:121: RuntimeWarning: divide by zero encountered in divide\n",
      "  ret = um.true_divide(\n",
      "/run/media/constantfear/8E626319626304F5/Projects/venvs/.mainvenv/lib/python3.11/site-packages/numpy/core/_methods.py:121: RuntimeWarning: invalid value encountered in divide\n",
      "  ret = um.true_divide(\n",
      "/run/media/constantfear/8E626319626304F5/Projects/data-science-portfolio/Girafe-AI ML course/assignment0_04_tree/tree.py:22: RuntimeWarning: divide by zero encountered in log\n",
      "  ntrop = -1*np.sum(prob*np.log(prob))\n",
      "/run/media/constantfear/8E626319626304F5/Projects/data-science-portfolio/Girafe-AI ML course/assignment0_04_tree/tree.py:22: RuntimeWarning: invalid value encountered in multiply\n",
      "  ntrop = -1*np.sum(prob*np.log(prob))\n",
      "/run/media/constantfear/8E626319626304F5/Projects/venvs/.mainvenv/lib/python3.11/site-packages/numpy/core/fromnumeric.py:3504: RuntimeWarning: Mean of empty slice.\n",
      "  return _methods._mean(a, axis=axis, dtype=dtype,\n",
      "/run/media/constantfear/8E626319626304F5/Projects/venvs/.mainvenv/lib/python3.11/site-packages/numpy/core/_methods.py:121: RuntimeWarning: divide by zero encountered in divide\n",
      "  ret = um.true_divide(\n",
      "/run/media/constantfear/8E626319626304F5/Projects/venvs/.mainvenv/lib/python3.11/site-packages/numpy/core/_methods.py:121: RuntimeWarning: invalid value encountered in divide\n",
      "  ret = um.true_divide(\n",
      "/run/media/constantfear/8E626319626304F5/Projects/data-science-portfolio/Girafe-AI ML course/assignment0_04_tree/tree.py:22: RuntimeWarning: divide by zero encountered in log\n",
      "  ntrop = -1*np.sum(prob*np.log(prob))\n",
      "/run/media/constantfear/8E626319626304F5/Projects/data-science-portfolio/Girafe-AI ML course/assignment0_04_tree/tree.py:22: RuntimeWarning: invalid value encountered in multiply\n",
      "  ntrop = -1*np.sum(prob*np.log(prob))\n",
      "/run/media/constantfear/8E626319626304F5/Projects/venvs/.mainvenv/lib/python3.11/site-packages/numpy/core/fromnumeric.py:3504: RuntimeWarning: Mean of empty slice.\n",
      "  return _methods._mean(a, axis=axis, dtype=dtype,\n",
      "/run/media/constantfear/8E626319626304F5/Projects/venvs/.mainvenv/lib/python3.11/site-packages/numpy/core/_methods.py:121: RuntimeWarning: divide by zero encountered in divide\n",
      "  ret = um.true_divide(\n",
      "/run/media/constantfear/8E626319626304F5/Projects/venvs/.mainvenv/lib/python3.11/site-packages/numpy/core/_methods.py:121: RuntimeWarning: invalid value encountered in divide\n",
      "  ret = um.true_divide(\n",
      "/run/media/constantfear/8E626319626304F5/Projects/data-science-portfolio/Girafe-AI ML course/assignment0_04_tree/tree.py:22: RuntimeWarning: divide by zero encountered in log\n",
      "  ntrop = -1*np.sum(prob*np.log(prob))\n",
      "/run/media/constantfear/8E626319626304F5/Projects/data-science-portfolio/Girafe-AI ML course/assignment0_04_tree/tree.py:22: RuntimeWarning: invalid value encountered in multiply\n",
      "  ntrop = -1*np.sum(prob*np.log(prob))\n",
      "/run/media/constantfear/8E626319626304F5/Projects/venvs/.mainvenv/lib/python3.11/site-packages/numpy/core/fromnumeric.py:3504: RuntimeWarning: Mean of empty slice.\n",
      "  return _methods._mean(a, axis=axis, dtype=dtype,\n",
      "/run/media/constantfear/8E626319626304F5/Projects/venvs/.mainvenv/lib/python3.11/site-packages/numpy/core/_methods.py:121: RuntimeWarning: divide by zero encountered in divide\n",
      "  ret = um.true_divide(\n",
      "/run/media/constantfear/8E626319626304F5/Projects/venvs/.mainvenv/lib/python3.11/site-packages/numpy/core/_methods.py:121: RuntimeWarning: invalid value encountered in divide\n",
      "  ret = um.true_divide(\n",
      "/run/media/constantfear/8E626319626304F5/Projects/data-science-portfolio/Girafe-AI ML course/assignment0_04_tree/tree.py:22: RuntimeWarning: divide by zero encountered in log\n",
      "  ntrop = -1*np.sum(prob*np.log(prob))\n",
      "/run/media/constantfear/8E626319626304F5/Projects/data-science-portfolio/Girafe-AI ML course/assignment0_04_tree/tree.py:22: RuntimeWarning: invalid value encountered in multiply\n",
      "  ntrop = -1*np.sum(prob*np.log(prob))\n",
      "/run/media/constantfear/8E626319626304F5/Projects/venvs/.mainvenv/lib/python3.11/site-packages/numpy/core/fromnumeric.py:3504: RuntimeWarning: Mean of empty slice.\n",
      "  return _methods._mean(a, axis=axis, dtype=dtype,\n",
      "/run/media/constantfear/8E626319626304F5/Projects/venvs/.mainvenv/lib/python3.11/site-packages/numpy/core/_methods.py:121: RuntimeWarning: divide by zero encountered in divide\n",
      "  ret = um.true_divide(\n",
      "/run/media/constantfear/8E626319626304F5/Projects/venvs/.mainvenv/lib/python3.11/site-packages/numpy/core/_methods.py:121: RuntimeWarning: invalid value encountered in divide\n",
      "  ret = um.true_divide(\n",
      "/run/media/constantfear/8E626319626304F5/Projects/data-science-portfolio/Girafe-AI ML course/assignment0_04_tree/tree.py:22: RuntimeWarning: divide by zero encountered in log\n",
      "  ntrop = -1*np.sum(prob*np.log(prob))\n",
      "/run/media/constantfear/8E626319626304F5/Projects/data-science-portfolio/Girafe-AI ML course/assignment0_04_tree/tree.py:22: RuntimeWarning: invalid value encountered in multiply\n",
      "  ntrop = -1*np.sum(prob*np.log(prob))\n",
      "/run/media/constantfear/8E626319626304F5/Projects/venvs/.mainvenv/lib/python3.11/site-packages/numpy/core/fromnumeric.py:3504: RuntimeWarning: Mean of empty slice.\n",
      "  return _methods._mean(a, axis=axis, dtype=dtype,\n",
      "/run/media/constantfear/8E626319626304F5/Projects/venvs/.mainvenv/lib/python3.11/site-packages/numpy/core/_methods.py:121: RuntimeWarning: divide by zero encountered in divide\n",
      "  ret = um.true_divide(\n",
      "/run/media/constantfear/8E626319626304F5/Projects/venvs/.mainvenv/lib/python3.11/site-packages/numpy/core/_methods.py:121: RuntimeWarning: invalid value encountered in divide\n",
      "  ret = um.true_divide(\n",
      "/run/media/constantfear/8E626319626304F5/Projects/data-science-portfolio/Girafe-AI ML course/assignment0_04_tree/tree.py:22: RuntimeWarning: divide by zero encountered in log\n",
      "  ntrop = -1*np.sum(prob*np.log(prob))\n",
      "/run/media/constantfear/8E626319626304F5/Projects/data-science-portfolio/Girafe-AI ML course/assignment0_04_tree/tree.py:22: RuntimeWarning: invalid value encountered in multiply\n",
      "  ntrop = -1*np.sum(prob*np.log(prob))\n",
      "/run/media/constantfear/8E626319626304F5/Projects/venvs/.mainvenv/lib/python3.11/site-packages/numpy/core/fromnumeric.py:3504: RuntimeWarning: Mean of empty slice.\n",
      "  return _methods._mean(a, axis=axis, dtype=dtype,\n",
      "/run/media/constantfear/8E626319626304F5/Projects/venvs/.mainvenv/lib/python3.11/site-packages/numpy/core/_methods.py:121: RuntimeWarning: divide by zero encountered in divide\n",
      "  ret = um.true_divide(\n",
      "/run/media/constantfear/8E626319626304F5/Projects/venvs/.mainvenv/lib/python3.11/site-packages/numpy/core/_methods.py:121: RuntimeWarning: invalid value encountered in divide\n",
      "  ret = um.true_divide(\n",
      "/run/media/constantfear/8E626319626304F5/Projects/data-science-portfolio/Girafe-AI ML course/assignment0_04_tree/tree.py:22: RuntimeWarning: divide by zero encountered in log\n",
      "  ntrop = -1*np.sum(prob*np.log(prob))\n",
      "/run/media/constantfear/8E626319626304F5/Projects/data-science-portfolio/Girafe-AI ML course/assignment0_04_tree/tree.py:22: RuntimeWarning: invalid value encountered in multiply\n",
      "  ntrop = -1*np.sum(prob*np.log(prob))\n",
      "/run/media/constantfear/8E626319626304F5/Projects/venvs/.mainvenv/lib/python3.11/site-packages/numpy/core/fromnumeric.py:3504: RuntimeWarning: Mean of empty slice.\n",
      "  return _methods._mean(a, axis=axis, dtype=dtype,\n",
      "/run/media/constantfear/8E626319626304F5/Projects/venvs/.mainvenv/lib/python3.11/site-packages/numpy/core/_methods.py:121: RuntimeWarning: divide by zero encountered in divide\n",
      "  ret = um.true_divide(\n",
      "/run/media/constantfear/8E626319626304F5/Projects/venvs/.mainvenv/lib/python3.11/site-packages/numpy/core/_methods.py:121: RuntimeWarning: invalid value encountered in divide\n",
      "  ret = um.true_divide(\n",
      "/run/media/constantfear/8E626319626304F5/Projects/data-science-portfolio/Girafe-AI ML course/assignment0_04_tree/tree.py:22: RuntimeWarning: divide by zero encountered in log\n",
      "  ntrop = -1*np.sum(prob*np.log(prob))\n",
      "/run/media/constantfear/8E626319626304F5/Projects/data-science-portfolio/Girafe-AI ML course/assignment0_04_tree/tree.py:22: RuntimeWarning: invalid value encountered in multiply\n",
      "  ntrop = -1*np.sum(prob*np.log(prob))\n",
      "/run/media/constantfear/8E626319626304F5/Projects/venvs/.mainvenv/lib/python3.11/site-packages/numpy/core/fromnumeric.py:3504: RuntimeWarning: Mean of empty slice.\n",
      "  return _methods._mean(a, axis=axis, dtype=dtype,\n",
      "/run/media/constantfear/8E626319626304F5/Projects/venvs/.mainvenv/lib/python3.11/site-packages/numpy/core/_methods.py:121: RuntimeWarning: divide by zero encountered in divide\n",
      "  ret = um.true_divide(\n",
      "/run/media/constantfear/8E626319626304F5/Projects/venvs/.mainvenv/lib/python3.11/site-packages/numpy/core/_methods.py:121: RuntimeWarning: invalid value encountered in divide\n",
      "  ret = um.true_divide(\n",
      "/run/media/constantfear/8E626319626304F5/Projects/data-science-portfolio/Girafe-AI ML course/assignment0_04_tree/tree.py:22: RuntimeWarning: divide by zero encountered in log\n",
      "  ntrop = -1*np.sum(prob*np.log(prob))\n",
      "/run/media/constantfear/8E626319626304F5/Projects/data-science-portfolio/Girafe-AI ML course/assignment0_04_tree/tree.py:22: RuntimeWarning: invalid value encountered in multiply\n",
      "  ntrop = -1*np.sum(prob*np.log(prob))\n",
      "/run/media/constantfear/8E626319626304F5/Projects/venvs/.mainvenv/lib/python3.11/site-packages/numpy/core/fromnumeric.py:3504: RuntimeWarning: Mean of empty slice.\n",
      "  return _methods._mean(a, axis=axis, dtype=dtype,\n",
      "/run/media/constantfear/8E626319626304F5/Projects/venvs/.mainvenv/lib/python3.11/site-packages/numpy/core/_methods.py:121: RuntimeWarning: divide by zero encountered in divide\n",
      "  ret = um.true_divide(\n",
      "/run/media/constantfear/8E626319626304F5/Projects/venvs/.mainvenv/lib/python3.11/site-packages/numpy/core/_methods.py:121: RuntimeWarning: invalid value encountered in divide\n",
      "  ret = um.true_divide(\n",
      "/run/media/constantfear/8E626319626304F5/Projects/data-science-portfolio/Girafe-AI ML course/assignment0_04_tree/tree.py:22: RuntimeWarning: divide by zero encountered in log\n",
      "  ntrop = -1*np.sum(prob*np.log(prob))\n",
      "/run/media/constantfear/8E626319626304F5/Projects/data-science-portfolio/Girafe-AI ML course/assignment0_04_tree/tree.py:22: RuntimeWarning: invalid value encountered in multiply\n",
      "  ntrop = -1*np.sum(prob*np.log(prob))\n",
      "/run/media/constantfear/8E626319626304F5/Projects/venvs/.mainvenv/lib/python3.11/site-packages/numpy/core/fromnumeric.py:3504: RuntimeWarning: Mean of empty slice.\n",
      "  return _methods._mean(a, axis=axis, dtype=dtype,\n",
      "/run/media/constantfear/8E626319626304F5/Projects/venvs/.mainvenv/lib/python3.11/site-packages/numpy/core/_methods.py:121: RuntimeWarning: divide by zero encountered in divide\n",
      "  ret = um.true_divide(\n",
      "/run/media/constantfear/8E626319626304F5/Projects/venvs/.mainvenv/lib/python3.11/site-packages/numpy/core/_methods.py:121: RuntimeWarning: invalid value encountered in divide\n",
      "  ret = um.true_divide(\n",
      "/run/media/constantfear/8E626319626304F5/Projects/data-science-portfolio/Girafe-AI ML course/assignment0_04_tree/tree.py:22: RuntimeWarning: divide by zero encountered in log\n",
      "  ntrop = -1*np.sum(prob*np.log(prob))\n",
      "/run/media/constantfear/8E626319626304F5/Projects/data-science-portfolio/Girafe-AI ML course/assignment0_04_tree/tree.py:22: RuntimeWarning: invalid value encountered in multiply\n",
      "  ntrop = -1*np.sum(prob*np.log(prob))\n",
      "/run/media/constantfear/8E626319626304F5/Projects/venvs/.mainvenv/lib/python3.11/site-packages/numpy/core/fromnumeric.py:3504: RuntimeWarning: Mean of empty slice.\n",
      "  return _methods._mean(a, axis=axis, dtype=dtype,\n",
      "/run/media/constantfear/8E626319626304F5/Projects/venvs/.mainvenv/lib/python3.11/site-packages/numpy/core/_methods.py:121: RuntimeWarning: divide by zero encountered in divide\n",
      "  ret = um.true_divide(\n",
      "/run/media/constantfear/8E626319626304F5/Projects/venvs/.mainvenv/lib/python3.11/site-packages/numpy/core/_methods.py:121: RuntimeWarning: invalid value encountered in divide\n",
      "  ret = um.true_divide(\n",
      "/run/media/constantfear/8E626319626304F5/Projects/data-science-portfolio/Girafe-AI ML course/assignment0_04_tree/tree.py:22: RuntimeWarning: divide by zero encountered in log\n",
      "  ntrop = -1*np.sum(prob*np.log(prob))\n",
      "/run/media/constantfear/8E626319626304F5/Projects/data-science-portfolio/Girafe-AI ML course/assignment0_04_tree/tree.py:22: RuntimeWarning: invalid value encountered in multiply\n",
      "  ntrop = -1*np.sum(prob*np.log(prob))\n",
      "/run/media/constantfear/8E626319626304F5/Projects/venvs/.mainvenv/lib/python3.11/site-packages/numpy/core/fromnumeric.py:3504: RuntimeWarning: Mean of empty slice.\n",
      "  return _methods._mean(a, axis=axis, dtype=dtype,\n",
      "/run/media/constantfear/8E626319626304F5/Projects/venvs/.mainvenv/lib/python3.11/site-packages/numpy/core/_methods.py:121: RuntimeWarning: divide by zero encountered in divide\n",
      "  ret = um.true_divide(\n",
      "/run/media/constantfear/8E626319626304F5/Projects/venvs/.mainvenv/lib/python3.11/site-packages/numpy/core/_methods.py:121: RuntimeWarning: invalid value encountered in divide\n",
      "  ret = um.true_divide(\n",
      "/run/media/constantfear/8E626319626304F5/Projects/data-science-portfolio/Girafe-AI ML course/assignment0_04_tree/tree.py:22: RuntimeWarning: divide by zero encountered in log\n",
      "  ntrop = -1*np.sum(prob*np.log(prob))\n",
      "/run/media/constantfear/8E626319626304F5/Projects/data-science-portfolio/Girafe-AI ML course/assignment0_04_tree/tree.py:22: RuntimeWarning: invalid value encountered in multiply\n",
      "  ntrop = -1*np.sum(prob*np.log(prob))\n",
      "/run/media/constantfear/8E626319626304F5/Projects/venvs/.mainvenv/lib/python3.11/site-packages/numpy/core/fromnumeric.py:3504: RuntimeWarning: Mean of empty slice.\n",
      "  return _methods._mean(a, axis=axis, dtype=dtype,\n",
      "/run/media/constantfear/8E626319626304F5/Projects/venvs/.mainvenv/lib/python3.11/site-packages/numpy/core/_methods.py:121: RuntimeWarning: divide by zero encountered in divide\n",
      "  ret = um.true_divide(\n",
      "/run/media/constantfear/8E626319626304F5/Projects/venvs/.mainvenv/lib/python3.11/site-packages/numpy/core/_methods.py:121: RuntimeWarning: invalid value encountered in divide\n",
      "  ret = um.true_divide(\n",
      "/run/media/constantfear/8E626319626304F5/Projects/data-science-portfolio/Girafe-AI ML course/assignment0_04_tree/tree.py:22: RuntimeWarning: divide by zero encountered in log\n",
      "  ntrop = -1*np.sum(prob*np.log(prob))\n",
      "/run/media/constantfear/8E626319626304F5/Projects/data-science-portfolio/Girafe-AI ML course/assignment0_04_tree/tree.py:22: RuntimeWarning: invalid value encountered in multiply\n",
      "  ntrop = -1*np.sum(prob*np.log(prob))\n",
      "/run/media/constantfear/8E626319626304F5/Projects/venvs/.mainvenv/lib/python3.11/site-packages/numpy/core/fromnumeric.py:3504: RuntimeWarning: Mean of empty slice.\n",
      "  return _methods._mean(a, axis=axis, dtype=dtype,\n",
      "/run/media/constantfear/8E626319626304F5/Projects/venvs/.mainvenv/lib/python3.11/site-packages/numpy/core/_methods.py:121: RuntimeWarning: divide by zero encountered in divide\n",
      "  ret = um.true_divide(\n",
      "/run/media/constantfear/8E626319626304F5/Projects/venvs/.mainvenv/lib/python3.11/site-packages/numpy/core/_methods.py:121: RuntimeWarning: invalid value encountered in divide\n",
      "  ret = um.true_divide(\n",
      "/run/media/constantfear/8E626319626304F5/Projects/data-science-portfolio/Girafe-AI ML course/assignment0_04_tree/tree.py:22: RuntimeWarning: divide by zero encountered in log\n",
      "  ntrop = -1*np.sum(prob*np.log(prob))\n",
      "/run/media/constantfear/8E626319626304F5/Projects/data-science-portfolio/Girafe-AI ML course/assignment0_04_tree/tree.py:22: RuntimeWarning: invalid value encountered in multiply\n",
      "  ntrop = -1*np.sum(prob*np.log(prob))\n",
      "/run/media/constantfear/8E626319626304F5/Projects/venvs/.mainvenv/lib/python3.11/site-packages/numpy/core/fromnumeric.py:3504: RuntimeWarning: Mean of empty slice.\n",
      "  return _methods._mean(a, axis=axis, dtype=dtype,\n",
      "/run/media/constantfear/8E626319626304F5/Projects/venvs/.mainvenv/lib/python3.11/site-packages/numpy/core/_methods.py:121: RuntimeWarning: divide by zero encountered in divide\n",
      "  ret = um.true_divide(\n",
      "/run/media/constantfear/8E626319626304F5/Projects/venvs/.mainvenv/lib/python3.11/site-packages/numpy/core/_methods.py:121: RuntimeWarning: invalid value encountered in divide\n",
      "  ret = um.true_divide(\n",
      "/run/media/constantfear/8E626319626304F5/Projects/data-science-portfolio/Girafe-AI ML course/assignment0_04_tree/tree.py:22: RuntimeWarning: divide by zero encountered in log\n",
      "  ntrop = -1*np.sum(prob*np.log(prob))\n",
      "/run/media/constantfear/8E626319626304F5/Projects/data-science-portfolio/Girafe-AI ML course/assignment0_04_tree/tree.py:22: RuntimeWarning: invalid value encountered in multiply\n",
      "  ntrop = -1*np.sum(prob*np.log(prob))\n",
      "/run/media/constantfear/8E626319626304F5/Projects/venvs/.mainvenv/lib/python3.11/site-packages/numpy/core/fromnumeric.py:3504: RuntimeWarning: Mean of empty slice.\n",
      "  return _methods._mean(a, axis=axis, dtype=dtype,\n",
      "/run/media/constantfear/8E626319626304F5/Projects/venvs/.mainvenv/lib/python3.11/site-packages/numpy/core/_methods.py:121: RuntimeWarning: divide by zero encountered in divide\n",
      "  ret = um.true_divide(\n",
      "/run/media/constantfear/8E626319626304F5/Projects/venvs/.mainvenv/lib/python3.11/site-packages/numpy/core/_methods.py:121: RuntimeWarning: invalid value encountered in divide\n",
      "  ret = um.true_divide(\n",
      "/run/media/constantfear/8E626319626304F5/Projects/data-science-portfolio/Girafe-AI ML course/assignment0_04_tree/tree.py:22: RuntimeWarning: divide by zero encountered in log\n",
      "  ntrop = -1*np.sum(prob*np.log(prob))\n",
      "/run/media/constantfear/8E626319626304F5/Projects/data-science-portfolio/Girafe-AI ML course/assignment0_04_tree/tree.py:22: RuntimeWarning: invalid value encountered in multiply\n",
      "  ntrop = -1*np.sum(prob*np.log(prob))\n",
      "/run/media/constantfear/8E626319626304F5/Projects/venvs/.mainvenv/lib/python3.11/site-packages/numpy/core/fromnumeric.py:3504: RuntimeWarning: Mean of empty slice.\n",
      "  return _methods._mean(a, axis=axis, dtype=dtype,\n",
      "/run/media/constantfear/8E626319626304F5/Projects/venvs/.mainvenv/lib/python3.11/site-packages/numpy/core/_methods.py:121: RuntimeWarning: divide by zero encountered in divide\n",
      "  ret = um.true_divide(\n",
      "/run/media/constantfear/8E626319626304F5/Projects/venvs/.mainvenv/lib/python3.11/site-packages/numpy/core/_methods.py:121: RuntimeWarning: invalid value encountered in divide\n",
      "  ret = um.true_divide(\n",
      "/run/media/constantfear/8E626319626304F5/Projects/data-science-portfolio/Girafe-AI ML course/assignment0_04_tree/tree.py:22: RuntimeWarning: divide by zero encountered in log\n",
      "  ntrop = -1*np.sum(prob*np.log(prob))\n",
      "/run/media/constantfear/8E626319626304F5/Projects/data-science-portfolio/Girafe-AI ML course/assignment0_04_tree/tree.py:22: RuntimeWarning: invalid value encountered in multiply\n",
      "  ntrop = -1*np.sum(prob*np.log(prob))\n",
      "/run/media/constantfear/8E626319626304F5/Projects/venvs/.mainvenv/lib/python3.11/site-packages/numpy/core/fromnumeric.py:3504: RuntimeWarning: Mean of empty slice.\n",
      "  return _methods._mean(a, axis=axis, dtype=dtype,\n",
      "/run/media/constantfear/8E626319626304F5/Projects/venvs/.mainvenv/lib/python3.11/site-packages/numpy/core/_methods.py:121: RuntimeWarning: divide by zero encountered in divide\n",
      "  ret = um.true_divide(\n",
      "/run/media/constantfear/8E626319626304F5/Projects/venvs/.mainvenv/lib/python3.11/site-packages/numpy/core/_methods.py:121: RuntimeWarning: invalid value encountered in divide\n",
      "  ret = um.true_divide(\n",
      "/run/media/constantfear/8E626319626304F5/Projects/data-science-portfolio/Girafe-AI ML course/assignment0_04_tree/tree.py:22: RuntimeWarning: divide by zero encountered in log\n",
      "  ntrop = -1*np.sum(prob*np.log(prob))\n",
      "/run/media/constantfear/8E626319626304F5/Projects/data-science-portfolio/Girafe-AI ML course/assignment0_04_tree/tree.py:22: RuntimeWarning: invalid value encountered in multiply\n",
      "  ntrop = -1*np.sum(prob*np.log(prob))\n",
      "/run/media/constantfear/8E626319626304F5/Projects/venvs/.mainvenv/lib/python3.11/site-packages/numpy/core/fromnumeric.py:3504: RuntimeWarning: Mean of empty slice.\n",
      "  return _methods._mean(a, axis=axis, dtype=dtype,\n",
      "/run/media/constantfear/8E626319626304F5/Projects/venvs/.mainvenv/lib/python3.11/site-packages/numpy/core/_methods.py:121: RuntimeWarning: divide by zero encountered in divide\n",
      "  ret = um.true_divide(\n",
      "/run/media/constantfear/8E626319626304F5/Projects/venvs/.mainvenv/lib/python3.11/site-packages/numpy/core/_methods.py:121: RuntimeWarning: invalid value encountered in divide\n",
      "  ret = um.true_divide(\n",
      "/run/media/constantfear/8E626319626304F5/Projects/data-science-portfolio/Girafe-AI ML course/assignment0_04_tree/tree.py:22: RuntimeWarning: divide by zero encountered in log\n",
      "  ntrop = -1*np.sum(prob*np.log(prob))\n",
      "/run/media/constantfear/8E626319626304F5/Projects/data-science-portfolio/Girafe-AI ML course/assignment0_04_tree/tree.py:22: RuntimeWarning: invalid value encountered in multiply\n",
      "  ntrop = -1*np.sum(prob*np.log(prob))\n",
      "/run/media/constantfear/8E626319626304F5/Projects/venvs/.mainvenv/lib/python3.11/site-packages/numpy/core/fromnumeric.py:3504: RuntimeWarning: Mean of empty slice.\n",
      "  return _methods._mean(a, axis=axis, dtype=dtype,\n",
      "/run/media/constantfear/8E626319626304F5/Projects/venvs/.mainvenv/lib/python3.11/site-packages/numpy/core/_methods.py:121: RuntimeWarning: divide by zero encountered in divide\n",
      "  ret = um.true_divide(\n",
      "/run/media/constantfear/8E626319626304F5/Projects/venvs/.mainvenv/lib/python3.11/site-packages/numpy/core/_methods.py:121: RuntimeWarning: invalid value encountered in divide\n",
      "  ret = um.true_divide(\n",
      "/run/media/constantfear/8E626319626304F5/Projects/data-science-portfolio/Girafe-AI ML course/assignment0_04_tree/tree.py:22: RuntimeWarning: divide by zero encountered in log\n",
      "  ntrop = -1*np.sum(prob*np.log(prob))\n",
      "/run/media/constantfear/8E626319626304F5/Projects/data-science-portfolio/Girafe-AI ML course/assignment0_04_tree/tree.py:22: RuntimeWarning: invalid value encountered in multiply\n",
      "  ntrop = -1*np.sum(prob*np.log(prob))\n",
      "/run/media/constantfear/8E626319626304F5/Projects/venvs/.mainvenv/lib/python3.11/site-packages/numpy/core/fromnumeric.py:3504: RuntimeWarning: Mean of empty slice.\n",
      "  return _methods._mean(a, axis=axis, dtype=dtype,\n",
      "/run/media/constantfear/8E626319626304F5/Projects/venvs/.mainvenv/lib/python3.11/site-packages/numpy/core/_methods.py:121: RuntimeWarning: divide by zero encountered in divide\n",
      "  ret = um.true_divide(\n",
      "/run/media/constantfear/8E626319626304F5/Projects/venvs/.mainvenv/lib/python3.11/site-packages/numpy/core/_methods.py:121: RuntimeWarning: invalid value encountered in divide\n",
      "  ret = um.true_divide(\n",
      "/run/media/constantfear/8E626319626304F5/Projects/data-science-portfolio/Girafe-AI ML course/assignment0_04_tree/tree.py:22: RuntimeWarning: divide by zero encountered in log\n",
      "  ntrop = -1*np.sum(prob*np.log(prob))\n",
      "/run/media/constantfear/8E626319626304F5/Projects/data-science-portfolio/Girafe-AI ML course/assignment0_04_tree/tree.py:22: RuntimeWarning: invalid value encountered in multiply\n",
      "  ntrop = -1*np.sum(prob*np.log(prob))\n",
      "/run/media/constantfear/8E626319626304F5/Projects/venvs/.mainvenv/lib/python3.11/site-packages/numpy/core/fromnumeric.py:3504: RuntimeWarning: Mean of empty slice.\n",
      "  return _methods._mean(a, axis=axis, dtype=dtype,\n",
      "/run/media/constantfear/8E626319626304F5/Projects/venvs/.mainvenv/lib/python3.11/site-packages/numpy/core/_methods.py:121: RuntimeWarning: divide by zero encountered in divide\n",
      "  ret = um.true_divide(\n",
      "/run/media/constantfear/8E626319626304F5/Projects/venvs/.mainvenv/lib/python3.11/site-packages/numpy/core/_methods.py:121: RuntimeWarning: invalid value encountered in divide\n",
      "  ret = um.true_divide(\n",
      "/run/media/constantfear/8E626319626304F5/Projects/data-science-portfolio/Girafe-AI ML course/assignment0_04_tree/tree.py:22: RuntimeWarning: divide by zero encountered in log\n",
      "  ntrop = -1*np.sum(prob*np.log(prob))\n",
      "/run/media/constantfear/8E626319626304F5/Projects/data-science-portfolio/Girafe-AI ML course/assignment0_04_tree/tree.py:22: RuntimeWarning: invalid value encountered in multiply\n",
      "  ntrop = -1*np.sum(prob*np.log(prob))\n",
      "/run/media/constantfear/8E626319626304F5/Projects/venvs/.mainvenv/lib/python3.11/site-packages/numpy/core/fromnumeric.py:3504: RuntimeWarning: Mean of empty slice.\n",
      "  return _methods._mean(a, axis=axis, dtype=dtype,\n",
      "/run/media/constantfear/8E626319626304F5/Projects/venvs/.mainvenv/lib/python3.11/site-packages/numpy/core/_methods.py:121: RuntimeWarning: divide by zero encountered in divide\n",
      "  ret = um.true_divide(\n",
      "/run/media/constantfear/8E626319626304F5/Projects/venvs/.mainvenv/lib/python3.11/site-packages/numpy/core/_methods.py:121: RuntimeWarning: invalid value encountered in divide\n",
      "  ret = um.true_divide(\n",
      "/run/media/constantfear/8E626319626304F5/Projects/data-science-portfolio/Girafe-AI ML course/assignment0_04_tree/tree.py:22: RuntimeWarning: divide by zero encountered in log\n",
      "  ntrop = -1*np.sum(prob*np.log(prob))\n",
      "/run/media/constantfear/8E626319626304F5/Projects/data-science-portfolio/Girafe-AI ML course/assignment0_04_tree/tree.py:22: RuntimeWarning: invalid value encountered in multiply\n",
      "  ntrop = -1*np.sum(prob*np.log(prob))\n",
      "/run/media/constantfear/8E626319626304F5/Projects/venvs/.mainvenv/lib/python3.11/site-packages/numpy/core/fromnumeric.py:3504: RuntimeWarning: Mean of empty slice.\n",
      "  return _methods._mean(a, axis=axis, dtype=dtype,\n",
      "/run/media/constantfear/8E626319626304F5/Projects/venvs/.mainvenv/lib/python3.11/site-packages/numpy/core/_methods.py:121: RuntimeWarning: divide by zero encountered in divide\n",
      "  ret = um.true_divide(\n",
      "/run/media/constantfear/8E626319626304F5/Projects/venvs/.mainvenv/lib/python3.11/site-packages/numpy/core/_methods.py:121: RuntimeWarning: invalid value encountered in divide\n",
      "  ret = um.true_divide(\n",
      "/run/media/constantfear/8E626319626304F5/Projects/data-science-portfolio/Girafe-AI ML course/assignment0_04_tree/tree.py:22: RuntimeWarning: divide by zero encountered in log\n",
      "  ntrop = -1*np.sum(prob*np.log(prob))\n",
      "/run/media/constantfear/8E626319626304F5/Projects/data-science-portfolio/Girafe-AI ML course/assignment0_04_tree/tree.py:22: RuntimeWarning: invalid value encountered in multiply\n",
      "  ntrop = -1*np.sum(prob*np.log(prob))\n"
     ]
    },
    {
     "name": "stdout",
     "output_type": "stream",
     "text": [
      "CPU times: user 1.1 s, sys: 442 ms, total: 1.54 s\n",
      "Wall time: 34.8 s\n"
     ]
    },
    {
     "data": {
      "text/html": [
       "<style>#sk-container-id-1 {color: black;}#sk-container-id-1 pre{padding: 0;}#sk-container-id-1 div.sk-toggleable {background-color: white;}#sk-container-id-1 label.sk-toggleable__label {cursor: pointer;display: block;width: 100%;margin-bottom: 0;padding: 0.3em;box-sizing: border-box;text-align: center;}#sk-container-id-1 label.sk-toggleable__label-arrow:before {content: \"▸\";float: left;margin-right: 0.25em;color: #696969;}#sk-container-id-1 label.sk-toggleable__label-arrow:hover:before {color: black;}#sk-container-id-1 div.sk-estimator:hover label.sk-toggleable__label-arrow:before {color: black;}#sk-container-id-1 div.sk-toggleable__content {max-height: 0;max-width: 0;overflow: hidden;text-align: left;background-color: #f0f8ff;}#sk-container-id-1 div.sk-toggleable__content pre {margin: 0.2em;color: black;border-radius: 0.25em;background-color: #f0f8ff;}#sk-container-id-1 input.sk-toggleable__control:checked~div.sk-toggleable__content {max-height: 200px;max-width: 100%;overflow: auto;}#sk-container-id-1 input.sk-toggleable__control:checked~label.sk-toggleable__label-arrow:before {content: \"▾\";}#sk-container-id-1 div.sk-estimator input.sk-toggleable__control:checked~label.sk-toggleable__label {background-color: #d4ebff;}#sk-container-id-1 div.sk-label input.sk-toggleable__control:checked~label.sk-toggleable__label {background-color: #d4ebff;}#sk-container-id-1 input.sk-hidden--visually {border: 0;clip: rect(1px 1px 1px 1px);clip: rect(1px, 1px, 1px, 1px);height: 1px;margin: -1px;overflow: hidden;padding: 0;position: absolute;width: 1px;}#sk-container-id-1 div.sk-estimator {font-family: monospace;background-color: #f0f8ff;border: 1px dotted black;border-radius: 0.25em;box-sizing: border-box;margin-bottom: 0.5em;}#sk-container-id-1 div.sk-estimator:hover {background-color: #d4ebff;}#sk-container-id-1 div.sk-parallel-item::after {content: \"\";width: 100%;border-bottom: 1px solid gray;flex-grow: 1;}#sk-container-id-1 div.sk-label:hover label.sk-toggleable__label {background-color: #d4ebff;}#sk-container-id-1 div.sk-serial::before {content: \"\";position: absolute;border-left: 1px solid gray;box-sizing: border-box;top: 0;bottom: 0;left: 50%;z-index: 0;}#sk-container-id-1 div.sk-serial {display: flex;flex-direction: column;align-items: center;background-color: white;padding-right: 0.2em;padding-left: 0.2em;position: relative;}#sk-container-id-1 div.sk-item {position: relative;z-index: 1;}#sk-container-id-1 div.sk-parallel {display: flex;align-items: stretch;justify-content: center;background-color: white;position: relative;}#sk-container-id-1 div.sk-item::before, #sk-container-id-1 div.sk-parallel-item::before {content: \"\";position: absolute;border-left: 1px solid gray;box-sizing: border-box;top: 0;bottom: 0;left: 50%;z-index: -1;}#sk-container-id-1 div.sk-parallel-item {display: flex;flex-direction: column;z-index: 1;position: relative;background-color: white;}#sk-container-id-1 div.sk-parallel-item:first-child::after {align-self: flex-end;width: 50%;}#sk-container-id-1 div.sk-parallel-item:last-child::after {align-self: flex-start;width: 50%;}#sk-container-id-1 div.sk-parallel-item:only-child::after {width: 0;}#sk-container-id-1 div.sk-dashed-wrapped {border: 1px dashed gray;margin: 0 0.4em 0.5em 0.4em;box-sizing: border-box;padding-bottom: 0.4em;background-color: white;}#sk-container-id-1 div.sk-label label {font-family: monospace;font-weight: bold;display: inline-block;line-height: 1.2em;}#sk-container-id-1 div.sk-label-container {text-align: center;}#sk-container-id-1 div.sk-container {/* jupyter's `normalize.less` sets `[hidden] { display: none; }` but bootstrap.min.css set `[hidden] { display: none !important; }` so we also need the `!important` here to be able to override the default hidden behavior on the sphinx rendered scikit-learn.org. See: https://github.com/scikit-learn/scikit-learn/issues/21755 */display: inline-block !important;position: relative;}#sk-container-id-1 div.sk-text-repr-fallback {display: none;}</style><div id=\"sk-container-id-1\" class=\"sk-top-container\"><div class=\"sk-text-repr-fallback\"><pre>GridSearchCV(cv=5, estimator=DecisionTree(), n_jobs=-2,\n",
       "             param_grid={&#x27;criterion_name&#x27;: [&#x27;gini&#x27;, &#x27;entropy&#x27;],\n",
       "                         &#x27;max_depth&#x27;: range(3, 11)},\n",
       "             scoring=&#x27;accuracy&#x27;)</pre><b>In a Jupyter environment, please rerun this cell to show the HTML representation or trust the notebook. <br />On GitHub, the HTML representation is unable to render, please try loading this page with nbviewer.org.</b></div><div class=\"sk-container\" hidden><div class=\"sk-item sk-dashed-wrapped\"><div class=\"sk-label-container\"><div class=\"sk-label sk-toggleable\"><input class=\"sk-toggleable__control sk-hidden--visually\" id=\"sk-estimator-id-1\" type=\"checkbox\" ><label for=\"sk-estimator-id-1\" class=\"sk-toggleable__label sk-toggleable__label-arrow\">GridSearchCV</label><div class=\"sk-toggleable__content\"><pre>GridSearchCV(cv=5, estimator=DecisionTree(), n_jobs=-2,\n",
       "             param_grid={&#x27;criterion_name&#x27;: [&#x27;gini&#x27;, &#x27;entropy&#x27;],\n",
       "                         &#x27;max_depth&#x27;: range(3, 11)},\n",
       "             scoring=&#x27;accuracy&#x27;)</pre></div></div></div><div class=\"sk-parallel\"><div class=\"sk-parallel-item\"><div class=\"sk-item\"><div class=\"sk-label-container\"><div class=\"sk-label sk-toggleable\"><input class=\"sk-toggleable__control sk-hidden--visually\" id=\"sk-estimator-id-2\" type=\"checkbox\" ><label for=\"sk-estimator-id-2\" class=\"sk-toggleable__label sk-toggleable__label-arrow\">estimator: DecisionTree</label><div class=\"sk-toggleable__content\"><pre>DecisionTree()</pre></div></div></div><div class=\"sk-serial\"><div class=\"sk-item\"><div class=\"sk-estimator sk-toggleable\"><input class=\"sk-toggleable__control sk-hidden--visually\" id=\"sk-estimator-id-3\" type=\"checkbox\" ><label for=\"sk-estimator-id-3\" class=\"sk-toggleable__label sk-toggleable__label-arrow\">DecisionTree</label><div class=\"sk-toggleable__content\"><pre>DecisionTree()</pre></div></div></div></div></div></div></div></div></div></div>"
      ],
      "text/plain": [
       "GridSearchCV(cv=5, estimator=DecisionTree(), n_jobs=-2,\n",
       "             param_grid={'criterion_name': ['gini', 'entropy'],\n",
       "                         'max_depth': range(3, 11)},\n",
       "             scoring='accuracy')"
      ]
     },
     "execution_count": 26,
     "metadata": {},
     "output_type": "execute_result"
    }
   ],
   "source": [
    "%%time\n",
    "gs.fit(X_train, y_train)"
   ]
  },
  {
   "cell_type": "code",
   "execution_count": 27,
   "metadata": {},
   "outputs": [
    {
     "data": {
      "text/plain": [
       "{'criterion_name': 'entropy', 'max_depth': 4}"
      ]
     },
     "execution_count": 27,
     "metadata": {},
     "output_type": "execute_result"
    }
   ],
   "source": [
    "gs.best_params_"
   ]
  },
  {
   "cell_type": "code",
   "execution_count": 28,
   "metadata": {},
   "outputs": [
    {
     "ename": "AssertionError",
     "evalue": "",
     "output_type": "error",
     "traceback": [
      "\u001b[0;31m---------------------------------------------------------------------------\u001b[0m",
      "\u001b[0;31mAssertionError\u001b[0m                            Traceback (most recent call last)",
      "\u001b[1;32m/run/media/constantfear/8E626319626304F5/Projects/data-science-portfolio/Girafe-AI ML course/assignment0_04_tree/assignment0_04_decision_tree.ipynb Cell 24\u001b[0m line \u001b[0;36m2\n\u001b[1;32m      <a href='vscode-notebook-cell:/run/media/constantfear/8E626319626304F5/Projects/data-science-portfolio/Girafe-AI%20ML%20course/assignment0_04_tree/assignment0_04_decision_tree.ipynb#X32sZmlsZQ%3D%3D?line=0'>1</a>\u001b[0m \u001b[39massert\u001b[39;00m gs\u001b[39m.\u001b[39mbest_params_[\u001b[39m'\u001b[39m\u001b[39mcriterion_name\u001b[39m\u001b[39m'\u001b[39m] \u001b[39m==\u001b[39m \u001b[39m'\u001b[39m\u001b[39mentropy\u001b[39m\u001b[39m'\u001b[39m\n\u001b[0;32m----> <a href='vscode-notebook-cell:/run/media/constantfear/8E626319626304F5/Projects/data-science-portfolio/Girafe-AI%20ML%20course/assignment0_04_tree/assignment0_04_decision_tree.ipynb#X32sZmlsZQ%3D%3D?line=1'>2</a>\u001b[0m \u001b[39massert\u001b[39;00m \u001b[39m6\u001b[39m \u001b[39m<\u001b[39m gs\u001b[39m.\u001b[39mbest_params_[\u001b[39m'\u001b[39m\u001b[39mmax_depth\u001b[39m\u001b[39m'\u001b[39m] \u001b[39m<\u001b[39m \u001b[39m9\u001b[39m\n",
      "\u001b[0;31mAssertionError\u001b[0m: "
     ]
    }
   ],
   "source": [
    "assert gs.best_params_['criterion_name'] == 'entropy'\n",
    "assert 6 < gs.best_params_['max_depth'] < 9"
   ]
  },
  {
   "cell_type": "code",
   "execution_count": 29,
   "metadata": {},
   "outputs": [
    {
     "data": {
      "image/png": "[encoded data removed]",
      "text/plain": [
       "<Figure size 1000x800 with 1 Axes>"
      ]
     },
     "metadata": {},
     "output_type": "display_data"
    }
   ],
   "source": [
    "plt.figure(figsize=(10, 8))\n",
    "plt.title(\"The dependence of quality on the depth of the tree\")\n",
    "plt.plot(np.arange(3,11), gs.cv_results_['mean_test_score'][:8], label='Gini')\n",
    "plt.plot(np.arange(3,11), gs.cv_results_['mean_test_score'][8:], label='Entropy')\n",
    "plt.legend(fontsize=11, loc=1)\n",
    "plt.xlabel(\"max_depth\")\n",
    "plt.ylabel('accuracy')\n",
    "plt.show()"
   ]
  },
  {
   "cell_type": "markdown",
   "metadata": {},
   "source": [
    "#### Regression problem"
   ]
  },
  {
   "cell_type": "code",
   "execution_count": 39,
   "metadata": {},
   "outputs": [
    {
     "name": "stderr",
     "output_type": "stream",
     "text": [
      "/run/media/constantfear/8E626319626304F5/Projects/venvs/.mainvenv/lib/python3.11/site-packages/sklearn/datasets/_openml.py:1002: FutureWarning: The default value of `parser` will change from `'liac-arff'` to `'auto'` in 1.4. You can set `parser='auto'` to silence this warning. Therefore, an `ImportError` will be raised from 1.4 if the dataset is dense and pandas is not installed. Note that the pandas parser may return different data types. See the Notes Section in fetch_openml's API doc for details.\n",
      "  warn(\n"
     ]
    }
   ],
   "source": [
    "boston = fetch_openml(data_id=506) \n",
    "regr_data = boston['data'] \n",
    "regr_target = np.array(boston['target'])[:, None] # to make the targets consistent with our model interfaces\n",
    "RX_train, RX_test, Ry_train, Ry_test = train_test_split(regr_data, regr_target, test_size=0.2, random_state=RANDOM_STATE)"
   ]
  },
  {
   "cell_type": "code",
   "execution_count": 40,
   "metadata": {},
   "outputs": [
    {
     "data": {
      "text/plain": [
       "2"
      ]
     },
     "execution_count": 40,
     "metadata": {},
     "output_type": "execute_result"
    }
   ],
   "source": [
    "len(Ry_train.shape)"
   ]
  },
  {
   "cell_type": "code",
   "execution_count": 44,
   "metadata": {},
   "outputs": [
    {
     "name": "stdout",
     "output_type": "stream",
     "text": [
      "here\n"
     ]
    },
    {
     "ename": "InvalidIndexError",
     "evalue": "(slice(None, None, None), 0)",
     "output_type": "error",
     "traceback": [
      "\u001b[0;31m---------------------------------------------------------------------------\u001b[0m",
      "\u001b[0;31mTypeError\u001b[0m                                 Traceback (most recent call last)",
      "File \u001b[0;32m/run/media/constantfear/8E626319626304F5/Projects/venvs/.mainvenv/lib/python3.11/site-packages/pandas/core/indexes/base.py:3790\u001b[0m, in \u001b[0;36mIndex.get_loc\u001b[0;34m(self, key)\u001b[0m\n\u001b[1;32m   3789\u001b[0m \u001b[39mtry\u001b[39;00m:\n\u001b[0;32m-> 3790\u001b[0m     \u001b[39mreturn\u001b[39;00m \u001b[39mself\u001b[39;49m\u001b[39m.\u001b[39;49m_engine\u001b[39m.\u001b[39;49mget_loc(casted_key)\n\u001b[1;32m   3791\u001b[0m \u001b[39mexcept\u001b[39;00m \u001b[39mKeyError\u001b[39;00m \u001b[39mas\u001b[39;00m err:\n",
      "File \u001b[0;32mindex.pyx:152\u001b[0m, in \u001b[0;36mpandas._libs.index.IndexEngine.get_loc\u001b[0;34m()\u001b[0m\n",
      "File \u001b[0;32mindex.pyx:158\u001b[0m, in \u001b[0;36mpandas._libs.index.IndexEngine.get_loc\u001b[0;34m()\u001b[0m\n",
      "\u001b[0;31mTypeError\u001b[0m: '(slice(None, None, None), 0)' is an invalid key",
      "\nDuring handling of the above exception, another exception occurred:\n",
      "\u001b[0;31mInvalidIndexError\u001b[0m                         Traceback (most recent call last)",
      "\u001b[1;32m/run/media/constantfear/8E626319626304F5/Projects/data-science-portfolio/Girafe-AI ML course/assignment0_04_tree/assignment0_04_decision_tree.ipynb Cell 29\u001b[0m line \u001b[0;36m2\n\u001b[1;32m      <a href='vscode-notebook-cell:/run/media/constantfear/8E626319626304F5/Projects/data-science-portfolio/Girafe-AI%20ML%20course/assignment0_04_tree/assignment0_04_decision_tree.ipynb#X40sZmlsZQ%3D%3D?line=0'>1</a>\u001b[0m regressor \u001b[39m=\u001b[39m DecisionTree(max_depth\u001b[39m=\u001b[39m\u001b[39m10\u001b[39m, criterion_name\u001b[39m=\u001b[39m\u001b[39m'\u001b[39m\u001b[39mmad_median\u001b[39m\u001b[39m'\u001b[39m)\n\u001b[0;32m----> <a href='vscode-notebook-cell:/run/media/constantfear/8E626319626304F5/Projects/data-science-portfolio/Girafe-AI%20ML%20course/assignment0_04_tree/assignment0_04_decision_tree.ipynb#X40sZmlsZQ%3D%3D?line=1'>2</a>\u001b[0m regressor\u001b[39m.\u001b[39;49mfit(RX_train, Ry_train)\n\u001b[1;32m      <a href='vscode-notebook-cell:/run/media/constantfear/8E626319626304F5/Projects/data-science-portfolio/Girafe-AI%20ML%20course/assignment0_04_tree/assignment0_04_decision_tree.ipynb#X40sZmlsZQ%3D%3D?line=2'>3</a>\u001b[0m predictions_mad \u001b[39m=\u001b[39m regressor\u001b[39m.\u001b[39mpredict(RX_test)\n\u001b[1;32m      <a href='vscode-notebook-cell:/run/media/constantfear/8E626319626304F5/Projects/data-science-portfolio/Girafe-AI%20ML%20course/assignment0_04_tree/assignment0_04_decision_tree.ipynb#X40sZmlsZQ%3D%3D?line=3'>4</a>\u001b[0m mse_mad \u001b[39m=\u001b[39m mean_squared_error(Ry_test, predictions_mad)\n",
      "File \u001b[0;32m/run/media/constantfear/8E626319626304F5/Projects/data-science-portfolio/Girafe-AI ML course/assignment0_04_tree/tree.py:326\u001b[0m, in \u001b[0;36mDecisionTree.fit\u001b[0;34m(self, X, y)\u001b[0m\n\u001b[1;32m    323\u001b[0m     y \u001b[39m=\u001b[39m one_hot_encode(\u001b[39mself\u001b[39m\u001b[39m.\u001b[39mn_classes, y)\n\u001b[1;32m    325\u001b[0m \u001b[39mprint\u001b[39m(\u001b[39m'\u001b[39m\u001b[39mhere\u001b[39m\u001b[39m'\u001b[39m)\n\u001b[0;32m--> 326\u001b[0m \u001b[39mself\u001b[39m\u001b[39m.\u001b[39mroot \u001b[39m=\u001b[39m \u001b[39mself\u001b[39;49m\u001b[39m.\u001b[39;49mmake_tree(X, y)\n",
      "File \u001b[0;32m/run/media/constantfear/8E626319626304F5/Projects/data-science-portfolio/Girafe-AI ML course/assignment0_04_tree/tree.py:288\u001b[0m, in \u001b[0;36mDecisionTree.make_tree\u001b[0;34m(self, X_subset, y_subset)\u001b[0m\n\u001b[1;32m    285\u001b[0m     val \u001b[39m=\u001b[39m np\u001b[39m.\u001b[39margmax(mean)\n\u001b[1;32m    286\u001b[0m     \u001b[39mreturn\u001b[39;00m Node(\u001b[39m0\u001b[39m, val, mean[val])\n\u001b[0;32m--> 288\u001b[0m feature_index, threshold \u001b[39m=\u001b[39m \u001b[39mself\u001b[39;49m\u001b[39m.\u001b[39;49mchoose_best_split(X_subset, y_subset)\n\u001b[1;32m    290\u001b[0m \u001b[39m# Создайте новый узел для текущего разделения.\u001b[39;00m\n\u001b[1;32m    291\u001b[0m new_node \u001b[39m=\u001b[39m Node(feature_index, threshold)\n",
      "File \u001b[0;32m/run/media/constantfear/8E626319626304F5/Projects/data-science-portfolio/Girafe-AI ML course/assignment0_04_tree/tree.py:237\u001b[0m, in \u001b[0;36mDecisionTree.choose_best_split\u001b[0;34m(self, X_subset, y_subset)\u001b[0m\n\u001b[1;32m    233\u001b[0m best_threshold \u001b[39m=\u001b[39m \u001b[39m0\u001b[39m\n\u001b[1;32m    235\u001b[0m \u001b[39mfor\u001b[39;00m feature_index \u001b[39min\u001b[39;00m \u001b[39mrange\u001b[39m(X_subset\u001b[39m.\u001b[39mshape[\u001b[39m1\u001b[39m]):\n\u001b[1;32m    236\u001b[0m     \u001b[39m# Для каждого признака\u001b[39;00m\n\u001b[0;32m--> 237\u001b[0m     feature_values \u001b[39m=\u001b[39m X_subset[:, feature_index]\n\u001b[1;32m    238\u001b[0m     unique_values \u001b[39m=\u001b[39m np\u001b[39m.\u001b[39munique(feature_values)\n\u001b[1;32m    240\u001b[0m     \u001b[39mfor\u001b[39;00m threshold \u001b[39min\u001b[39;00m unique_values:\n\u001b[1;32m    241\u001b[0m         \u001b[39m# Для каждого уникального значения признака\u001b[39;00m\n",
      "File \u001b[0;32m/run/media/constantfear/8E626319626304F5/Projects/venvs/.mainvenv/lib/python3.11/site-packages/pandas/core/frame.py:3896\u001b[0m, in \u001b[0;36mDataFrame.__getitem__\u001b[0;34m(self, key)\u001b[0m\n\u001b[1;32m   3894\u001b[0m \u001b[39mif\u001b[39;00m \u001b[39mself\u001b[39m\u001b[39m.\u001b[39mcolumns\u001b[39m.\u001b[39mnlevels \u001b[39m>\u001b[39m \u001b[39m1\u001b[39m:\n\u001b[1;32m   3895\u001b[0m     \u001b[39mreturn\u001b[39;00m \u001b[39mself\u001b[39m\u001b[39m.\u001b[39m_getitem_multilevel(key)\n\u001b[0;32m-> 3896\u001b[0m indexer \u001b[39m=\u001b[39m \u001b[39mself\u001b[39;49m\u001b[39m.\u001b[39;49mcolumns\u001b[39m.\u001b[39;49mget_loc(key)\n\u001b[1;32m   3897\u001b[0m \u001b[39mif\u001b[39;00m is_integer(indexer):\n\u001b[1;32m   3898\u001b[0m     indexer \u001b[39m=\u001b[39m [indexer]\n",
      "File \u001b[0;32m/run/media/constantfear/8E626319626304F5/Projects/venvs/.mainvenv/lib/python3.11/site-packages/pandas/core/indexes/base.py:3802\u001b[0m, in \u001b[0;36mIndex.get_loc\u001b[0;34m(self, key)\u001b[0m\n\u001b[1;32m   3797\u001b[0m     \u001b[39mraise\u001b[39;00m \u001b[39mKeyError\u001b[39;00m(key) \u001b[39mfrom\u001b[39;00m \u001b[39merr\u001b[39;00m\n\u001b[1;32m   3798\u001b[0m \u001b[39mexcept\u001b[39;00m \u001b[39mTypeError\u001b[39;00m:\n\u001b[1;32m   3799\u001b[0m     \u001b[39m# If we have a listlike key, _check_indexing_error will raise\u001b[39;00m\n\u001b[1;32m   3800\u001b[0m     \u001b[39m#  InvalidIndexError. Otherwise we fall through and re-raise\u001b[39;00m\n\u001b[1;32m   3801\u001b[0m     \u001b[39m#  the TypeError.\u001b[39;00m\n\u001b[0;32m-> 3802\u001b[0m     \u001b[39mself\u001b[39;49m\u001b[39m.\u001b[39;49m_check_indexing_error(key)\n\u001b[1;32m   3803\u001b[0m     \u001b[39mraise\u001b[39;00m\n",
      "File \u001b[0;32m/run/media/constantfear/8E626319626304F5/Projects/venvs/.mainvenv/lib/python3.11/site-packages/pandas/core/indexes/base.py:5974\u001b[0m, in \u001b[0;36mIndex._check_indexing_error\u001b[0;34m(self, key)\u001b[0m\n\u001b[1;32m   5970\u001b[0m \u001b[39mdef\u001b[39;00m \u001b[39m_check_indexing_error\u001b[39m(\u001b[39mself\u001b[39m, key):\n\u001b[1;32m   5971\u001b[0m     \u001b[39mif\u001b[39;00m \u001b[39mnot\u001b[39;00m is_scalar(key):\n\u001b[1;32m   5972\u001b[0m         \u001b[39m# if key is not a scalar, directly raise an error (the code below\u001b[39;00m\n\u001b[1;32m   5973\u001b[0m         \u001b[39m# would convert to numpy arrays and raise later any way) - GH29926\u001b[39;00m\n\u001b[0;32m-> 5974\u001b[0m         \u001b[39mraise\u001b[39;00m InvalidIndexError(key)\n",
      "\u001b[0;31mInvalidIndexError\u001b[0m: (slice(None, None, None), 0)"
     ]
    }
   ],
   "source": [
    "regressor = DecisionTree(max_depth=10, criterion_name='mad_median')\n",
    "regressor.fit(RX_train, Ry_train)\n",
    "predictions_mad = regressor.predict(RX_test)\n",
    "mse_mad = mean_squared_error(Ry_test, predictions_mad)\n",
    "print(mse_mad)"
   ]
  },
  {
   "cell_type": "code",
   "execution_count": null,
   "metadata": {},
   "outputs": [],
   "source": [
    "regressor = DecisionTree(max_depth=10, criterion_name='variance')\n",
    "regressor.fit(RX_train, Ry_train)\n",
    "predictions_mad = regressor.predict(RX_test)\n",
    "mse_var = mean_squared_error(Ry_test, predictions_mad)\n",
    "print(mse_var)"
   ]
  },
  {
   "cell_type": "code",
   "execution_count": null,
   "metadata": {},
   "outputs": [],
   "source": [
    "assert 9 < mse_mad < 20\n",
    "assert 8 < mse_var < 12"
   ]
  },
  {
   "cell_type": "code",
   "execution_count": null,
   "metadata": {},
   "outputs": [],
   "source": [
    "param_grid_R = {'max_depth': range(2,9), 'criterion_name': ['variance', 'mad_median']}"
   ]
  },
  {
   "cell_type": "code",
   "execution_count": 9,
   "metadata": {},
   "outputs": [
    {
     "ename": "NameError",
     "evalue": "name 'DecisionTree' is not defined",
     "output_type": "error",
     "traceback": [
      "\u001b[0;31m---------------------------------------------------------------------------\u001b[0m",
      "\u001b[0;31mNameError\u001b[0m                                 Traceback (most recent call last)",
      "\u001b[1;32m/run/media/constantfear/8E626319626304F5/Projects/data-science-portfolio/Girafe-AI ML course/assignment0_04_tree/assignment0_04_decision_tree.ipynb Cell 33\u001b[0m line \u001b[0;36m1\n\u001b[0;32m----> <a href='vscode-notebook-cell:/run/media/constantfear/8E626319626304F5/Projects/data-science-portfolio/Girafe-AI%20ML%20course/assignment0_04_tree/assignment0_04_decision_tree.ipynb#X43sZmlsZQ%3D%3D?line=0'>1</a>\u001b[0m gs_R \u001b[39m=\u001b[39m GridSearchCV(DecisionTree(), param_grid\u001b[39m=\u001b[39mparam_grid_R, cv\u001b[39m=\u001b[39m\u001b[39m5\u001b[39m, scoring\u001b[39m=\u001b[39m\u001b[39m'\u001b[39m\u001b[39mneg_mean_squared_error\u001b[39m\u001b[39m'\u001b[39m, n_jobs\u001b[39m=\u001b[39m\u001b[39m-\u001b[39m\u001b[39m2\u001b[39m)\n\u001b[1;32m      <a href='vscode-notebook-cell:/run/media/constantfear/8E626319626304F5/Projects/data-science-portfolio/Girafe-AI%20ML%20course/assignment0_04_tree/assignment0_04_decision_tree.ipynb#X43sZmlsZQ%3D%3D?line=1'>2</a>\u001b[0m gs_R\u001b[39m.\u001b[39mfit(RX_train, Ry_train)\n",
      "\u001b[0;31mNameError\u001b[0m: name 'DecisionTree' is not defined"
     ]
    }
   ],
   "source": [
    "gs_R = GridSearchCV(DecisionTree(), param_grid=param_grid_R, cv=5, scoring='neg_mean_squared_error', n_jobs=-2)\n",
    "gs_R.fit(RX_train, Ry_train)"
   ]
  },
  {
   "cell_type": "code",
   "execution_count": null,
   "metadata": {},
   "outputs": [],
   "source": [
    "gs_R.best_params_"
   ]
  },
  {
   "cell_type": "code",
   "execution_count": null,
   "metadata": {},
   "outputs": [],
   "source": [
    "assert gs_R.best_params_['criterion_name'] == 'mad_median'\n",
    "assert 3 < gs_R.best_params_['max_depth'] < 7"
   ]
  },
  {
   "cell_type": "code",
   "execution_count": null,
   "metadata": {},
   "outputs": [],
   "source": [
    "var_scores = gs_R.cv_results_['mean_test_score'][:7]\n",
    "mad_scores = gs_R.cv_results_['mean_test_score'][7:]"
   ]
  },
  {
   "cell_type": "code",
   "execution_count": null,
   "metadata": {},
   "outputs": [],
   "source": [
    "plt.figure(figsize=(10, 8))\n",
    "plt.title(\"The dependence of neg_mse on the depth of the tree\")\n",
    "plt.plot(np.arange(2,9), var_scores, label='variance')\n",
    "plt.plot(np.arange(2,9), mad_scores, label='mad_median')\n",
    "plt.legend(fontsize=11, loc=1)\n",
    "plt.xlabel(\"max_depth\")\n",
    "plt.ylabel('neg_mse')\n",
    "plt.show()"
   ]
  }
 ],
 "metadata": {
  "kernelspec": {
   "display_name": "Python 3 (ipykernel)",
   "language": "python",
   "name": "python3"
  },
  "language_info": {
   "codemirror_mode": {
    "name": "ipython",
    "version": 3
   },
   "file_extension": ".py",
   "mimetype": "text/x-python",
   "name": "python",
   "nbconvert_exporter": "python",
   "pygments_lexer": "ipython3",
   "version": "3.11.5"
  }
 },
 "nbformat": 4,
 "nbformat_minor": 4
}
